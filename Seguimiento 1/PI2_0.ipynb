{
  "nbformat": 4,
  "nbformat_minor": 0,
  "metadata": {
    "colab": {
      "provenance": []
    },
    "kernelspec": {
      "name": "python3",
      "display_name": "Python 3"
    },
    "language_info": {
      "name": "python"
    }
  },
  "cells": [
    {
      "cell_type": "markdown",
      "source": [
        "Limpieza de base de datos"
      ],
      "metadata": {
        "id": "3U8UY8w6mcZi"
      }
    },
    {
      "cell_type": "markdown",
      "source": [
        "-----------------"
      ],
      "metadata": {
        "id": "mC1epWkSoCL9"
      }
    },
    {
      "cell_type": "code",
      "source": [
        "from google.colab import drive\n",
        "drive.mount('/content/drive')\n"
      ],
      "metadata": {
        "id": "pHJgWPPvoBiW",
        "colab": {
          "base_uri": "https://localhost:8080/"
        },
        "outputId": "00f965d5-f8a7-4a7c-94ee-1f276df341c0"
      },
      "execution_count": 1,
      "outputs": [
        {
          "output_type": "stream",
          "name": "stdout",
          "text": [
            "Mounted at /content/drive\n"
          ]
        }
      ]
    },
    {
      "cell_type": "code",
      "source": [
        "#Rutas de las bases de datos desde el Drive\n",
        "\n",
        "import os\n",
        "\n",
        "if os.path.exists('/content/drive/My Drive/PI 2.0/multilabel_CSV.csv'):\n",
        "    file_path = '/content/drive/My Drive/PI 2.0/multilabel_CSV.csv'\n",
        "elif os.path.exists('/content/drive/Shared with me/PI 2.0/multilabel_CSV.csv'):\n",
        "    file_path = '/content/drive/Shared with me/PI 2.0/multilabel_CSV.csv'\n",
        "else:\n",
        "    raise FileNotFoundError(\"No se encontró el archivo en ninguna ruta conocida.\")\n",
        "\n",
        "file_path_starpep = '/content/drive/My Drive/PI 2.0/Function_metadata.csv'\n",
        "file_path_excel = '/content/drive/My Drive/PI 2.0/multilabel_Excel.xlsx'\n",
        "\n",
        "\n",
        "file_merged_starpep = '/content/drive/My Drive/PI 2.0/merged-starpep.csv'\n",
        "file_merged_unal = '/content/drive/My Drive/PI 2.0/merged-unal.csv'\n"
      ],
      "metadata": {
        "id": "hbsrQRl-oucO"
      },
      "execution_count": 3,
      "outputs": []
    },
    {
      "cell_type": "code",
      "source": [
        "#!pip install pandas openpyxl\n",
        "import pandas as pd\n",
        "\n",
        "df_unal= pd.read_csv(file_path, delimiter=',')\n",
        "\n",
        "df_excel_antitumoral= pd.read_excel(file_path_excel, sheet_name='Antitumoral')\n",
        "df_excel_antitumoral=df_excel_antitumoral.drop(columns=['Secuencias raras, con errores o vacías', 'Unnamed: 3', 'ID'])\n",
        "\n",
        "df_excel_antivih= pd.read_excel(file_path_excel, sheet_name='Anti-VIH')\n",
        "df_excel_antivih=df_excel_antivih.drop(columns=['Secuencias raras, con errores o vacías', 'Unnamed: 3', 'ID'])\n",
        "\n",
        "df_unal = df_unal.drop(columns=['aliphatic_index','aromaticity','boman_index','charge','charge_density','class', 'gravy', 'hydrophobic_ratio', 'instability_index', 'isoelectric_point', 'length', 'molecular_weight','viral'])\n",
        "\n",
        "#print(df_unal.head())\n",
        "\n",
        "# Unir el dataFrame con la columna antitumoral\n",
        "df_merged = pd.merge(df_unal, df_excel_antitumoral, left_on='sequence', right_on='Secuencia', how='left')\n",
        "df_merged['Antitumoral'] = df_merged['Secuencia'].notna().astype(int)\n",
        "df_merged=df_merged.drop('Secuencia',axis=1)\n",
        "\n",
        "# Unir el dataframe con la columna antivih\n",
        "df_merged_unal = pd.merge(df_merged, df_excel_antivih, left_on='sequence', right_on='Secuencia', how='left')\n",
        "df_merged_unal['Anti-VIH'] = df_merged_unal['Secuencia'].notna().astype(int)\n",
        "df_merged_unal=df_merged_unal.drop('Secuencia',axis=1)\n",
        "\n",
        "\n",
        "#Calculo la secuencia mas larga\n",
        "max_length = df_merged_unal['sequence'].str.len().max()\n",
        "print(max_length)\n",
        "\n",
        "# Mostrar el DataFrame filtrado\n",
        "print(df_merged_unal)\n",
        "\n",
        "\n"
      ],
      "metadata": {
        "colab": {
          "base_uri": "https://localhost:8080/"
        },
        "id": "l9g5y1NOr32D",
        "outputId": "ca6f6cc9-94dd-44ec-8d54-4054129cb2ce"
      },
      "execution_count": 5,
      "outputs": [
        {
          "output_type": "stream",
          "name": "stdout",
          "text": [
            "35\n",
            "       antigramneg  antigrampos  bacteriano  cancer  fungico  microbiano  \\\n",
            "0                1            1           1       0        1           1   \n",
            "1                1            1           1       0        1           1   \n",
            "2                1            1           1       0        1           1   \n",
            "3                1            1           1       0        1           1   \n",
            "4                1            1           1       0        1           1   \n",
            "...            ...          ...         ...     ...      ...         ...   \n",
            "31718            0            0           0       0        0           0   \n",
            "31719            0            0           0       0        0           0   \n",
            "31720            0            0           0       0        0           0   \n",
            "31721            0            0           0       0        0           0   \n",
            "31722            0            0           0       0        0           0   \n",
            "\n",
            "                                  sequence  Antitumoral  Anti-VIH  \n",
            "0                        AAFRGCWTKNYSPKPCL            0         0  \n",
            "1                               AAGMGFFGAR            0         0  \n",
            "2                     AALKGCWTKSIPPKPCFGKR            0         0  \n",
            "3                     AALKGCWTKSIPPKPCSGKR            0         0  \n",
            "4                     AALRGCWTKSIPPKPCPGKR            0         0  \n",
            "...                                    ...          ...       ...  \n",
            "31718  SNQKQALAQPQTFAHIRVFFRPLPFAFFGTVGFYS            0         0  \n",
            "31719                        ETVDLKLNLQSNK            0         0  \n",
            "31720                    DRALAPNIRSAKQMVER            0         0  \n",
            "31721      HDNKSKNNTFNGAIAYVIPFLLFIFVIRSLI            0         0  \n",
            "31722                        NEGYLQPAGDMSK            0         0  \n",
            "\n",
            "[31723 rows x 9 columns]\n"
          ]
        }
      ]
    },
    {
      "cell_type": "code",
      "source": [
        "#Prueba para un registro en especifico\n",
        "\n",
        "registro = df_merged_unal[df_merged_unal['sequence'] == 'GFREVLKGAAKAFVKTVAGHIANI']\n",
        "\n",
        "print(registro)"
      ],
      "metadata": {
        "colab": {
          "base_uri": "https://localhost:8080/"
        },
        "id": "2Iyw0JDlOWvJ",
        "outputId": "60077fa7-7c83-4205-ebc5-5836c08a46cc"
      },
      "execution_count": null,
      "outputs": [
        {
          "output_type": "stream",
          "name": "stdout",
          "text": [
            "     antigramneg  antigrampos  bacteriano  cancer  fungico  microbiano  \\\n",
            "537            0            0           1       0        0           1   \n",
            "\n",
            "                     sequence  Antitumoral  Anti-VIH  \n",
            "537  GFREVLKGAAKAFVKTVAGHIANI            0         0  \n"
          ]
        }
      ]
    },
    {
      "cell_type": "markdown",
      "source": [
        "#STARPEP"
      ],
      "metadata": {
        "id": "HnV2YUmXyPfK"
      }
    },
    {
      "cell_type": "code",
      "source": [
        "df_starpep = pd.read_csv(file_path_starpep, delimiter=',')\n",
        "\n",
        "#Elimino columnas innecesarias\n",
        "df_starpep = df_starpep.drop(columns=['Relationship', 'Reference'])\n",
        "\n",
        "\n",
        "valores_a_mantener = ['Antimicrobial', 'Anticancer', 'Anti-Gram positive', 'Anti-Gram negative','Anti-HIV', 'Antifungal', 'Antitumor', 'Antibacterial']\n",
        "\n",
        "df_starpep = df_starpep[df_starpep['Metadata'].isin(valores_a_mantener)]\n",
        "\n",
        "\n",
        "df_starpep = pd.pivot_table(df_starpep, values='Metadata', index='Peptide',\n",
        "                          columns='Metadata', aggfunc=lambda x: 1, fill_value=0)\n",
        "\n",
        "print(df_starpep)"
      ],
      "metadata": {
        "id": "YxEAPsxKyQ8z"
      },
      "execution_count": null,
      "outputs": []
    },
    {
      "cell_type": "code",
      "source": [
        "print(df_starpep)"
      ],
      "metadata": {
        "colab": {
          "base_uri": "https://localhost:8080/"
        },
        "id": "OFxhtow96xXH",
        "outputId": "d21b8fc2-e0b0-43b4-a3c5-1daac278ab34"
      },
      "execution_count": null,
      "outputs": [
        {
          "output_type": "stream",
          "name": "stdout",
          "text": [
            "Metadata       Anti-Gram negative  Anti-Gram positive  Anti-HIV  \\\n",
            "Peptide                                                           \n",
            "starPep_00000                   1                   1         1   \n",
            "starPep_00001                   1                   1         0   \n",
            "starPep_00002                   1                   1         1   \n",
            "starPep_00003                   1                   1         1   \n",
            "starPep_00004                   1                   1         1   \n",
            "...                           ...                 ...       ...   \n",
            "starPep_45083                   1                   1         0   \n",
            "starPep_45084                   1                   1         0   \n",
            "starPep_45087                   1                   0         0   \n",
            "starPep_45091                   0                   0         0   \n",
            "starPep_45099                   1                   1         0   \n",
            "\n",
            "Metadata       Antibacterial  Anticancer  Antifungal  Antimicrobial  Antitumor  \n",
            "Peptide                                                                         \n",
            "starPep_00000              1           1           1              1          1  \n",
            "starPep_00001              1           1           1              1          1  \n",
            "starPep_00002              1           1           1              1          1  \n",
            "starPep_00003              1           1           1              1          0  \n",
            "starPep_00004              1           1           1              1          0  \n",
            "...                      ...         ...         ...            ...        ...  \n",
            "starPep_45083              0           0           0              0          0  \n",
            "starPep_45084              0           0           0              0          0  \n",
            "starPep_45087              0           0           0              0          0  \n",
            "starPep_45091              1           0           0              0          0  \n",
            "starPep_45099              0           1           0              0          0  \n",
            "\n",
            "[22854 rows x 8 columns]\n"
          ]
        }
      ]
    },
    {
      "cell_type": "code",
      "source": [
        "#!pip install Bio\n",
        "from Bio import SeqIO\n",
        "\n",
        "# Suponiendo que has subido un archivo llamado 'sequences.fasta'\n",
        "fasta_file = \"/content/drive/My Drive/PI 2.0/Peptides.fasta\"  # Cambia esto por el nombre de tu archivo\n",
        "\n",
        "# Leer el archivo .fasta\n",
        "records = SeqIO.parse(fasta_file, \"fasta\")\n",
        "\n",
        "# Crear listas para los datos\n",
        "ids = []\n",
        "sequences = []\n",
        "\n",
        "# Extraer la información\n",
        "for record in records:\n",
        "    ids.append(record.id)\n",
        "    sequences.append(str(record.seq))\n",
        "\n",
        "# Crear un DataFrame\n",
        "df_fasta = pd.DataFrame({\n",
        "    'ID': ids,\n",
        "    'Secuencia': sequences\n",
        "})\n",
        "\n",
        "\n",
        "\n",
        "\n",
        "# Unir los DataFrames por las columnas de ID correspondientes\n",
        "df_merged = pd.merge(df_starpep, df_fasta, left_on='Peptide', right_on='ID', how='inner')\n",
        "\n",
        "orden = ['ID', 'Secuencia', 'Antimicrobial', 'Anticancer', 'Anti-Gram positive', 'Anti-Gram negative','Anti-HIV', 'Antifungal', 'Antitumor', 'Antibacterial' ]\n",
        "\n",
        "df_merged_starpep = df_merged[orden]\n",
        "\n",
        "df_merged_starpep = df_merged_starpep.drop('ID', axis=1)\n",
        "\n",
        "print(df_merged_starpep)\n"
      ],
      "metadata": {
        "colab": {
          "base_uri": "https://localhost:8080/"
        },
        "id": "kZZfMmkx4rqa",
        "outputId": "5a72d695-afb6-49b4-9cc0-ffac9973ca76"
      },
      "execution_count": null,
      "outputs": [
        {
          "output_type": "stream",
          "name": "stdout",
          "text": [
            "                                   Secuencia  Antimicrobial  Anticancer  \\\n",
            "0                 GIGAVLKVLTTGLPALISWIKRKRQQ              1           1   \n",
            "1                    GIGKFLHSAKKFGKAFVGEIMNS              1           1   \n",
            "2                              ILPWKWPWWPWRR              1           1   \n",
            "3                          KWCFRVCYRGICYRRCR              1           1   \n",
            "4      LLGDFFRKSKEKIGKEFKRIVQRIKDFLRNLVPRTES              1           1   \n",
            "...                                      ...            ...         ...   \n",
            "22849                   YYHFWHRGVTKRSLSPHRPR              0           0   \n",
            "22850                YYHFWHRGVTKRSLSPHRPRHSR              0           0   \n",
            "22851                   YYNPLPHDCGRDNNTDICSR              0           0   \n",
            "22852                               YYQQKPVA              0           0   \n",
            "22853                               YYYYRRRR              0           1   \n",
            "\n",
            "       Anti-Gram positive  Anti-Gram negative  Anti-HIV  Antifungal  \\\n",
            "0                       1                   1         1           1   \n",
            "1                       1                   1         0           1   \n",
            "2                       1                   1         1           1   \n",
            "3                       1                   1         1           1   \n",
            "4                       1                   1         1           1   \n",
            "...                   ...                 ...       ...         ...   \n",
            "22849                   1                   1         0           0   \n",
            "22850                   1                   1         0           0   \n",
            "22851                   0                   1         0           0   \n",
            "22852                   0                   0         0           0   \n",
            "22853                   1                   1         0           0   \n",
            "\n",
            "       Antitumor  Antibacterial  \n",
            "0              1              1  \n",
            "1              1              1  \n",
            "2              1              1  \n",
            "3              0              1  \n",
            "4              0              1  \n",
            "...          ...            ...  \n",
            "22849          0              0  \n",
            "22850          0              0  \n",
            "22851          0              0  \n",
            "22852          0              1  \n",
            "22853          0              0  \n",
            "\n",
            "[22854 rows x 9 columns]\n"
          ]
        }
      ]
    },
    {
      "cell_type": "code",
      "source": [
        "#Unir los dataframe de starpep con la nacional\n",
        "\n",
        "import pandas as pd\n",
        "\n",
        "df_merged_starpep = pd.read_csv(file_merged_starpep)\n",
        "df_merged_unal = pd.read_csv(file_merged_unal)\n",
        "\n",
        "df_merged_starpep = df_merged_starpep.drop(columns=['Unnamed: 0'])\n",
        "df_merged_unal = df_merged_unal.drop(columns=['Unnamed: 0'])\n",
        "\n",
        "df_merged_unal = df_merged_unal.rename(columns={'antigramneg': 'Anti-Gram negative',\n",
        "                        'antigrampos': 'Anti-Gram positive',\n",
        "                        'bacteriano':'Antibacterial',\n",
        "                        'cancer':'Anticancer',\n",
        "                        'fungico':'Antifungal',\n",
        "                        'microbiano':'Antimicrobial',\n",
        "                        'sequence':'Secuencia',\n",
        "                        'Antitumoral':'Antitumor',\n",
        "                        'Anti-VIH':'Anti-HIV'})\n",
        "\n",
        "columnas_ordenadas = ['Secuencia', 'Antimicrobial','Antibacterial', 'Antifungal',\n",
        "                       'Anti-HIV','Antitumor', 'Anticancer', 'Anti-Gram positive',\n",
        "                      'Anti-Gram negative']\n",
        "\n",
        "df_merged_starpep=df_merged_starpep[columnas_ordenadas]\n",
        "df_merged_unal=df_merged_unal[columnas_ordenadas]\n",
        "\n",
        "df=pd.concat([df_merged_starpep,df_merged_unal], ignore_index=True)\n",
        "\n",
        "print(df_merged_unal.head())\n",
        "print(df_merged_starpep.head())\n",
        "\n",
        "\n",
        "print('---------')\n",
        "\n",
        "print(df.head())"
      ],
      "metadata": {
        "id": "RGQZCtChQrzz",
        "colab": {
          "base_uri": "https://localhost:8080/"
        },
        "outputId": "b0e80336-c2f9-4945-f60d-7a16043bba28"
      },
      "execution_count": null,
      "outputs": [
        {
          "output_type": "stream",
          "name": "stdout",
          "text": [
            "              Secuencia  Antimicrobial  Antibacterial  Antifungal  Anti-HIV  \\\n",
            "0     AAFRGCWTKNYSPKPCL              1              1           1         0   \n",
            "1            AAGMGFFGAR              1              1           1         0   \n",
            "2  AALKGCWTKSIPPKPCFGKR              1              1           1         0   \n",
            "3  AALKGCWTKSIPPKPCSGKR              1              1           1         0   \n",
            "4  AALRGCWTKSIPPKPCPGKR              1              1           1         0   \n",
            "\n",
            "   Antitumor  Anticancer  Anti-Gram positive  Anti-Gram negative  \n",
            "0          0           0                   1                   1  \n",
            "1          0           0                   1                   1  \n",
            "2          0           0                   1                   1  \n",
            "3          0           0                   1                   1  \n",
            "4          0           0                   1                   1  \n",
            "                               Secuencia  Antimicrobial  Antibacterial  \\\n",
            "0             GIGAVLKVLTTGLPALISWIKRKRQQ              1              1   \n",
            "1                GIGKFLHSAKKFGKAFVGEIMNS              1              1   \n",
            "2                          ILPWKWPWWPWRR              1              1   \n",
            "3                      KWCFRVCYRGICYRRCR              1              1   \n",
            "4  LLGDFFRKSKEKIGKEFKRIVQRIKDFLRNLVPRTES              1              1   \n",
            "\n",
            "   Antifungal  Anti-HIV  Antitumor  Anticancer  Anti-Gram positive  \\\n",
            "0           1         1          1           1                   1   \n",
            "1           1         0          1           1                   1   \n",
            "2           1         1          1           1                   1   \n",
            "3           1         1          0           1                   1   \n",
            "4           1         1          0           1                   1   \n",
            "\n",
            "   Anti-Gram negative  \n",
            "0                   1  \n",
            "1                   1  \n",
            "2                   1  \n",
            "3                   1  \n",
            "4                   1  \n",
            "---------\n",
            "                               Secuencia  Antimicrobial  Antibacterial  \\\n",
            "0             GIGAVLKVLTTGLPALISWIKRKRQQ              1              1   \n",
            "1                GIGKFLHSAKKFGKAFVGEIMNS              1              1   \n",
            "2                          ILPWKWPWWPWRR              1              1   \n",
            "3                      KWCFRVCYRGICYRRCR              1              1   \n",
            "4  LLGDFFRKSKEKIGKEFKRIVQRIKDFLRNLVPRTES              1              1   \n",
            "\n",
            "   Antifungal  Anti-HIV  Antitumor  Anticancer  Anti-Gram positive  \\\n",
            "0           1         1          1           1                   1   \n",
            "1           1         0          1           1                   1   \n",
            "2           1         1          1           1                   1   \n",
            "3           1         1          0           1                   1   \n",
            "4           1         1          0           1                   1   \n",
            "\n",
            "   Anti-Gram negative  \n",
            "0                   1  \n",
            "1                   1  \n",
            "2                   1  \n",
            "3                   1  \n",
            "4                   1  \n"
          ]
        }
      ]
    },
    {
      "cell_type": "code",
      "source": [
        "#Filtrar por las secuencias menores a 50\n",
        "\n",
        "df_completo=df\n",
        "print(df_completo.shape)\n",
        "\n",
        "df= df[df['Secuencia'].str.len() <= 50]\n",
        "\n",
        "# Mostrar el DataFrame resultante\n",
        "print(df.shape)"
      ],
      "metadata": {
        "colab": {
          "base_uri": "https://localhost:8080/"
        },
        "id": "30oOkjn_UfVr",
        "outputId": "058ad3f8-b893-4341-b5c5-f1e348f5d72c"
      },
      "execution_count": null,
      "outputs": [
        {
          "output_type": "stream",
          "name": "stdout",
          "text": [
            "(43830, 9)\n",
            "(39656, 9)\n"
          ]
        }
      ]
    },
    {
      "cell_type": "code",
      "source": [
        "#Subir los csv al drive\n",
        "\n",
        "df_completo.to_csv('dfGrande.csv', index=False)\n",
        "df.to_csv('dfLimpio.csv', index=False)"
      ],
      "metadata": {
        "id": "SRiBXtQGWreQ"
      },
      "execution_count": null,
      "outputs": []
    }
  ]
}