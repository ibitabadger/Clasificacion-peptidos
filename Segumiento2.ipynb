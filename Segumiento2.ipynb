{
  "nbformat": 4,
  "nbformat_minor": 0,
  "metadata": {
    "colab": {
      "provenance": [],
      "include_colab_link": true
    },
    "kernelspec": {
      "name": "python3",
      "display_name": "Python 3"
    },
    "language_info": {
      "name": "python"
    }
  },
  "cells": [
    {
      "cell_type": "markdown",
      "metadata": {
        "id": "view-in-github",
        "colab_type": "text"
      },
      "source": [
        "<a href=\"https://colab.research.google.com/github/ibitabadger/Clasificacion-peptidos/blob/main/Segumiento2.ipynb\" target=\"_parent\"><img src=\"https://colab.research.google.com/assets/colab-badge.svg\" alt=\"Open In Colab\"/></a>"
      ]
    },
    {
      "cell_type": "code",
      "execution_count": null,
      "metadata": {
        "colab": {
          "base_uri": "https://localhost:8080/"
        },
        "id": "gZGPbI36m9YT",
        "outputId": "6a2ae942-221d-4b8a-e24b-6cde346b0911"
      },
      "outputs": [
        {
          "output_type": "stream",
          "name": "stdout",
          "text": [
            "Mounted at /content/drive\n"
          ]
        }
      ],
      "source": [
        "from google.colab import drive\n",
        "drive.mount('/content/drive')"
      ]
    },
    {
      "cell_type": "code",
      "source": [
        "#Rutas de las bases de datos desde el Drive\n",
        "\n",
        "import os\n",
        "\n",
        "if os.path.exists('/content/drive/My Drive/PI 2.0/multilabel_CSV.csv'):\n",
        "    file_path = '/content/drive/My Drive/PI 2.0/multilabel_CSV.csv'\n",
        "elif os.path.exists('/content/drive/Shared with me/PI 2.0/multilabel_CSV.csv'):\n",
        "    file_path = '/content/drive/Shared with me/PI 2.0/multilabel_CSV.csv'\n",
        "else:\n",
        "    raise FileNotFoundError(\"No se encontró el archivo en ninguna ruta conocida.\")\n",
        "\n",
        "file_path_starpep = '/content/drive/My Drive/PI 2.0/Function_metadata.csv'\n",
        "file_path_excel = '/content/drive/My Drive/PI 2.0/multilabel_Excel.xlsx'\n",
        "\n",
        "\n",
        "file_merged_starpep = '/content/drive/My Drive/PI 2.0/merged-starpep.csv'\n",
        "file_merged_unal = '/content/drive/My Drive/PI 2.0/merged-unal.csv'\n",
        "\n",
        "file_fasta_unal = '/content/drive/My Drive/PI 2.0/data_neg.fasta'\n",
        "file_df_limpio = '/content/drive/My Drive/PI 2.0/dfLimpio.csv'\n",
        "file_df_merged_neg_pos = '/content/drive/My Drive/PI 2.0/df_merged_neg_pos.csv'\n",
        "file_df_features = '/content/drive/My Drive/PI 2.0/df_features.csv'\n",
        "\n",
        "file_df_binario = '/content/drive/My Drive/PI 2.0/df_binario.csv'"
      ],
      "metadata": {
        "id": "5b0nRK4_n2rH"
      },
      "execution_count": null,
      "outputs": []
    },
    {
      "cell_type": "markdown",
      "source": [
        "#DF Universidad Nacional"
      ],
      "metadata": {
        "id": "I6haXb3Cv1YS"
      }
    },
    {
      "cell_type": "code",
      "source": [
        "#!pip install pandas openpyxl\n",
        "import pandas as pd\n",
        "\n",
        "df_unal= pd.read_csv(file_path, delimiter=',')\n",
        "\n",
        "print(df_unal.shape)\n",
        "\n",
        "#Eliminación de columnas innecesarias\n",
        "\n",
        "df_excel_antitumoral= pd.read_excel(file_path_excel, sheet_name='Antitumoral')\n",
        "df_excel_antitumoral=df_excel_antitumoral.drop(columns=['Secuencias raras, con errores o vacías', 'Unnamed: 3', 'ID'])\n",
        "\n",
        "df_excel_antivih= pd.read_excel(file_path_excel, sheet_name='Anti-VIH')\n",
        "df_excel_antivih=df_excel_antivih.drop(columns=['Secuencias raras, con errores o vacías', 'Unnamed: 3', 'ID'])\n",
        "\n",
        "df_unal = df_unal.drop(columns=['aliphatic_index','aromaticity','boman_index','charge','charge_density','class', 'gravy', 'hydrophobic_ratio', 'instability_index', 'isoelectric_point', 'length', 'molecular_weight','viral'])\n",
        "\n",
        "#print(df_unal.head())\n",
        "\n",
        "# Unir el dataFrame con la columna antitumoral\n",
        "df_merged = pd.merge(df_unal, df_excel_antitumoral, left_on='sequence', right_on='Secuencia', how='left')\n",
        "df_merged['Antitumoral'] = df_merged['Secuencia'].notna().astype(int)\n",
        "df_merged=df_merged.drop('Secuencia',axis=1)\n",
        "\n",
        "# Unir el dataframe con la columna antivih\n",
        "df_merged_unal = pd.merge(df_merged, df_excel_antivih, left_on='sequence', right_on='Secuencia', how='left')\n",
        "df_merged_unal['Anti-VIH'] = df_merged_unal['Secuencia'].notna().astype(int)\n",
        "df_merged_unal=df_merged_unal.drop('Secuencia',axis=1)\n",
        "\n",
        "\n",
        "# Mostrar el DataFrame filtrado\n",
        "print(df_merged_unal)\n",
        "print(df_merged_unal.shape)\n",
        "\n"
      ],
      "metadata": {
        "colab": {
          "base_uri": "https://localhost:8080/"
        },
        "id": "qOtsLuLvorI8",
        "outputId": "3bbdd9e0-4924-49d2-e884-8cce48d172b2"
      },
      "execution_count": null,
      "outputs": [
        {
          "output_type": "stream",
          "name": "stdout",
          "text": [
            "(31658, 20)\n",
            "35\n",
            "       antigramneg  antigrampos  bacteriano  cancer  fungico  microbiano  \\\n",
            "0                1            1           1       0        1           1   \n",
            "1                1            1           1       0        1           1   \n",
            "2                1            1           1       0        1           1   \n",
            "3                1            1           1       0        1           1   \n",
            "4                1            1           1       0        1           1   \n",
            "...            ...          ...         ...     ...      ...         ...   \n",
            "31718            0            0           0       0        0           0   \n",
            "31719            0            0           0       0        0           0   \n",
            "31720            0            0           0       0        0           0   \n",
            "31721            0            0           0       0        0           0   \n",
            "31722            0            0           0       0        0           0   \n",
            "\n",
            "                                  sequence  Antitumoral  Anti-VIH  \n",
            "0                        AAFRGCWTKNYSPKPCL            0         0  \n",
            "1                               AAGMGFFGAR            0         0  \n",
            "2                     AALKGCWTKSIPPKPCFGKR            0         0  \n",
            "3                     AALKGCWTKSIPPKPCSGKR            0         0  \n",
            "4                     AALRGCWTKSIPPKPCPGKR            0         0  \n",
            "...                                    ...          ...       ...  \n",
            "31718  SNQKQALAQPQTFAHIRVFFRPLPFAFFGTVGFYS            0         0  \n",
            "31719                        ETVDLKLNLQSNK            0         0  \n",
            "31720                    DRALAPNIRSAKQMVER            0         0  \n",
            "31721      HDNKSKNNTFNGAIAYVIPFLLFIFVIRSLI            0         0  \n",
            "31722                        NEGYLQPAGDMSK            0         0  \n",
            "\n",
            "[31723 rows x 9 columns]\n",
            "(31723, 9)\n"
          ]
        }
      ]
    },
    {
      "cell_type": "code",
      "source": [
        "!pip install Bio\n",
        "from Bio import SeqIO\n",
        "\n",
        "# Subir el archivo 'data_neg.fasta'\n",
        "file_fasta_unal = '/content/drive/My Drive/PI 2.0/data_neg.fasta'\n",
        "\n",
        "# Leer el archivo .fasta\n",
        "records = SeqIO.parse(file_fasta_unal, \"fasta\")\n",
        "\n",
        "# Crear listas para los datos\n",
        "ids = []\n",
        "sequences = []\n",
        "\n",
        "# Extraer la información\n",
        "for record in records:\n",
        "    ids.append(record.id)\n",
        "    sequences.append(str(record.seq))\n",
        "\n",
        "# Crear un DataFrame\n",
        "df_fasta_unal = pd.DataFrame({\n",
        "    'ID': ids,\n",
        "    'Secuencia': sequences\n",
        "})"
      ],
      "metadata": {
        "colab": {
          "base_uri": "https://localhost:8080/"
        },
        "id": "c3lDqc08qGzg",
        "outputId": "b2a237f6-2434-4ff6-ce58-8f9e5994d210"
      },
      "execution_count": null,
      "outputs": [
        {
          "output_type": "stream",
          "name": "stdout",
          "text": [
            "Collecting Bio\n",
            "  Downloading bio-1.7.1-py3-none-any.whl.metadata (5.7 kB)\n",
            "Collecting biopython>=1.80 (from Bio)\n",
            "  Downloading biopython-1.84-cp310-cp310-manylinux_2_17_x86_64.manylinux2014_x86_64.whl.metadata (12 kB)\n",
            "Collecting gprofiler-official (from Bio)\n",
            "  Downloading gprofiler_official-1.0.0-py3-none-any.whl.metadata (11 kB)\n",
            "Collecting mygene (from Bio)\n",
            "  Downloading mygene-3.2.2-py2.py3-none-any.whl.metadata (10 kB)\n",
            "Requirement already satisfied: pandas in /usr/local/lib/python3.10/dist-packages (from Bio) (2.1.4)\n",
            "Requirement already satisfied: pooch in /usr/local/lib/python3.10/dist-packages (from Bio) (1.8.2)\n",
            "Requirement already satisfied: requests in /usr/local/lib/python3.10/dist-packages (from Bio) (2.32.3)\n",
            "Requirement already satisfied: tqdm in /usr/local/lib/python3.10/dist-packages (from Bio) (4.66.5)\n",
            "Requirement already satisfied: numpy in /usr/local/lib/python3.10/dist-packages (from biopython>=1.80->Bio) (1.26.4)\n",
            "Collecting biothings-client>=0.2.6 (from mygene->Bio)\n",
            "  Downloading biothings_client-0.3.1-py2.py3-none-any.whl.metadata (9.8 kB)\n",
            "Requirement already satisfied: python-dateutil>=2.8.2 in /usr/local/lib/python3.10/dist-packages (from pandas->Bio) (2.8.2)\n",
            "Requirement already satisfied: pytz>=2020.1 in /usr/local/lib/python3.10/dist-packages (from pandas->Bio) (2024.2)\n",
            "Requirement already satisfied: tzdata>=2022.1 in /usr/local/lib/python3.10/dist-packages (from pandas->Bio) (2024.1)\n",
            "Requirement already satisfied: platformdirs>=2.5.0 in /usr/local/lib/python3.10/dist-packages (from pooch->Bio) (4.3.3)\n",
            "Requirement already satisfied: packaging>=20.0 in /usr/local/lib/python3.10/dist-packages (from pooch->Bio) (24.1)\n",
            "Requirement already satisfied: charset-normalizer<4,>=2 in /usr/local/lib/python3.10/dist-packages (from requests->Bio) (3.3.2)\n",
            "Requirement already satisfied: idna<4,>=2.5 in /usr/local/lib/python3.10/dist-packages (from requests->Bio) (3.10)\n",
            "Requirement already satisfied: urllib3<3,>=1.21.1 in /usr/local/lib/python3.10/dist-packages (from requests->Bio) (2.0.7)\n",
            "Requirement already satisfied: certifi>=2017.4.17 in /usr/local/lib/python3.10/dist-packages (from requests->Bio) (2024.8.30)\n",
            "Requirement already satisfied: six>=1.5 in /usr/local/lib/python3.10/dist-packages (from python-dateutil>=2.8.2->pandas->Bio) (1.16.0)\n",
            "Downloading bio-1.7.1-py3-none-any.whl (280 kB)\n",
            "\u001b[2K   \u001b[90m━━━━━━━━━━━━━━━━━━━━━━━━━━━━━━━━━━━━━━━━\u001b[0m \u001b[32m281.0/281.0 kB\u001b[0m \u001b[31m12.1 MB/s\u001b[0m eta \u001b[36m0:00:00\u001b[0m\n",
            "\u001b[?25hDownloading biopython-1.84-cp310-cp310-manylinux_2_17_x86_64.manylinux2014_x86_64.whl (3.2 MB)\n",
            "\u001b[2K   \u001b[90m━━━━━━━━━━━━━━━━━━━━━━━━━━━━━━━━━━━━━━━━\u001b[0m \u001b[32m3.2/3.2 MB\u001b[0m \u001b[31m40.1 MB/s\u001b[0m eta \u001b[36m0:00:00\u001b[0m\n",
            "\u001b[?25hDownloading gprofiler_official-1.0.0-py3-none-any.whl (9.3 kB)\n",
            "Downloading mygene-3.2.2-py2.py3-none-any.whl (5.4 kB)\n",
            "Downloading biothings_client-0.3.1-py2.py3-none-any.whl (29 kB)\n",
            "Installing collected packages: biopython, gprofiler-official, biothings-client, mygene, Bio\n",
            "Successfully installed Bio-1.7.1 biopython-1.84 biothings-client-0.3.1 gprofiler-official-1.0.0 mygene-3.2.2\n"
          ]
        }
      ]
    },
    {
      "cell_type": "code",
      "source": [
        "df_fasta_unal.drop(columns=['ID'],inplace=True)\n"
      ],
      "metadata": {
        "id": "w_uVy2BprBoN"
      },
      "execution_count": null,
      "outputs": []
    },
    {
      "cell_type": "code",
      "source": [
        "\n",
        "print(df_fasta_unal.shape)"
      ],
      "metadata": {
        "colab": {
          "base_uri": "https://localhost:8080/"
        },
        "id": "Z_G4EQxKvcmI",
        "outputId": "23e75a62-3467-4472-be22-5277a8fc4039"
      },
      "execution_count": null,
      "outputs": [
        {
          "output_type": "stream",
          "name": "stdout",
          "text": [
            "(18209, 1)\n"
          ]
        }
      ]
    },
    {
      "cell_type": "code",
      "source": [
        "df_fasta_unal[['Antimicrobial', 'Antibacterial', 'Antifungal', 'Anti-HIV', 'Antitumor', 'Anticancer', 'Anti-Gram positive', 'Anti-Gram negative']] = 0\n",
        "df_fasta_unal.rename(columns={'sequence': 'Secuencia'}, inplace=True)\n",
        "\n",
        "nuevo_orden = ['Secuencia', 'Antimicrobial', 'Antibacterial', 'Antifungal', 'Anti-HIV', 'Antitumor', 'Anticancer', 'Anti-Gram positive', 'Anti-Gram negative']\n",
        "\n",
        "# Reordenar las columnas para poder unirlo con el df proveniente del excel\n",
        "df_fasta_unal = df_fasta_unal[nuevo_orden]\n",
        "print(df_fasta_unal)"
      ],
      "metadata": {
        "colab": {
          "base_uri": "https://localhost:8080/"
        },
        "id": "PqXfoMQrqwfR",
        "outputId": "b3fea0c8-5a17-47a3-a3b0-003908119672"
      },
      "execution_count": null,
      "outputs": [
        {
          "output_type": "stream",
          "name": "stdout",
          "text": [
            "                                 Secuencia  Antimicrobial  Antibacterial  \\\n",
            "0                                  GGKYMRF              0              0   \n",
            "1                                  DGYTPRL              0              0   \n",
            "2                                  QSAREQG              0              0   \n",
            "3                                  KMYDFGL              0              0   \n",
            "4                                  NPYAFGL              0              0   \n",
            "...                                    ...            ...            ...   \n",
            "18204  SNQKQALAQPQTFAHIRVFFRPLPFAFFGTVGFYS              0              0   \n",
            "18205                        ETVDLKLNLQSNK              0              0   \n",
            "18206                    DRALAPNIRSAKQMVER              0              0   \n",
            "18207      HDNKSKNNTFNGAIAYVIPFLLFIFVIRSLI              0              0   \n",
            "18208                        NEGYLQPAGDMSK              0              0   \n",
            "\n",
            "       Antifungal  Anti-HIV  Antitumor  Anticancer  Anti-Gram positive  \\\n",
            "0               0         0          0           0                   0   \n",
            "1               0         0          0           0                   0   \n",
            "2               0         0          0           0                   0   \n",
            "3               0         0          0           0                   0   \n",
            "4               0         0          0           0                   0   \n",
            "...           ...       ...        ...         ...                 ...   \n",
            "18204           0         0          0           0                   0   \n",
            "18205           0         0          0           0                   0   \n",
            "18206           0         0          0           0                   0   \n",
            "18207           0         0          0           0                   0   \n",
            "18208           0         0          0           0                   0   \n",
            "\n",
            "       Anti-Gram negative  \n",
            "0                       0  \n",
            "1                       0  \n",
            "2                       0  \n",
            "3                       0  \n",
            "4                       0  \n",
            "...                   ...  \n",
            "18204                   0  \n",
            "18205                   0  \n",
            "18206                   0  \n",
            "18207                   0  \n",
            "18208                   0  \n",
            "\n",
            "[18209 rows x 9 columns]\n"
          ]
        }
      ]
    },
    {
      "cell_type": "code",
      "source": [
        "#Eliminar las filas con aminoacidos menor a 7\n",
        "df_fasta_unal = df_fasta_unal[df_fasta_unal['Secuencia'].str.len() >= 7]\n",
        "print(df_fasta_unal.shape)\n",
        "#Eliminar las filas con aminoacidos mayor a 50\n",
        "df_fasta_unal = df_fasta_unal[df_fasta_unal['Secuencia'].str.len() <= 50]\n",
        "print(df_fasta_unal.shape)"
      ],
      "metadata": {
        "colab": {
          "base_uri": "https://localhost:8080/"
        },
        "id": "GdplYQ9VyGZ8",
        "outputId": "9ddccd3a-6312-4cb9-a2b0-e0b472769a29"
      },
      "execution_count": null,
      "outputs": [
        {
          "output_type": "stream",
          "name": "stdout",
          "text": [
            "(18209, 9)\n",
            "(18209, 9)\n"
          ]
        }
      ]
    },
    {
      "cell_type": "code",
      "source": [
        "\n",
        "df_limpio= pd.read_csv(file_df_limpio, delimiter=',')\n",
        "\n",
        "print(df_limpio)\n"
      ],
      "metadata": {
        "colab": {
          "base_uri": "https://localhost:8080/"
        },
        "id": "vcrxHASzv9Zw",
        "outputId": "38c1c51f-3d49-4acc-9c41-506ce7804dbf"
      },
      "execution_count": null,
      "outputs": [
        {
          "output_type": "stream",
          "name": "stdout",
          "text": [
            "                                   Secuencia  Antimicrobial  Antibacterial  \\\n",
            "0                 GIGAVLKVLTTGLPALISWIKRKRQQ              1              1   \n",
            "1                    GIGKFLHSAKKFGKAFVGEIMNS              1              1   \n",
            "2                              ILPWKWPWWPWRR              1              1   \n",
            "3                          KWCFRVCYRGICYRRCR              1              1   \n",
            "4      LLGDFFRKSKEKIGKEFKRIVQRIKDFLRNLVPRTES              1              1   \n",
            "...                                      ...            ...            ...   \n",
            "19151                              LPTSEAAKY              0              0   \n",
            "19152                      NENLLRFFVAPFPEVFG              0              0   \n",
            "19153                                PMDYMVT              0              0   \n",
            "19154                           RPKPQQFFGLMG              0              0   \n",
            "19155                           FFVAPFPEVFGK              0              0   \n",
            "\n",
            "       Antifungal  Anti-HIV  Antitumor  Anticancer  Anti-Gram positive  \\\n",
            "0               1         1          1           1                   1   \n",
            "1               1         0          1           1                   1   \n",
            "2               1         1          1           1                   1   \n",
            "3               1         1          0           1                   1   \n",
            "4               1         1          0           1                   1   \n",
            "...           ...       ...        ...         ...                 ...   \n",
            "19151           0         0          0           1                   0   \n",
            "19152           0         0          0           1                   0   \n",
            "19153           0         0          0           1                   0   \n",
            "19154           0         0          0           1                   0   \n",
            "19155           0         0          0           1                   0   \n",
            "\n",
            "       Anti-Gram negative  \n",
            "0                       1  \n",
            "1                       1  \n",
            "2                       1  \n",
            "3                       1  \n",
            "4                       1  \n",
            "...                   ...  \n",
            "19151                   0  \n",
            "19152                   0  \n",
            "19153                   0  \n",
            "19154                   0  \n",
            "19155                   0  \n",
            "\n",
            "[19156 rows x 9 columns]\n"
          ]
        }
      ]
    },
    {
      "cell_type": "code",
      "source": [
        "#union de df's\n",
        "df_merged_neg_pos = pd.concat([df_limpio, df_fasta_unal], ignore_index=True)\n",
        "print(df_merged_neg_pos)"
      ],
      "metadata": {
        "colab": {
          "base_uri": "https://localhost:8080/"
        },
        "id": "U2n-YPz7uNFX",
        "outputId": "5ba4571f-243f-4394-fcd6-fce10fd47be8"
      },
      "execution_count": null,
      "outputs": [
        {
          "output_type": "stream",
          "name": "stdout",
          "text": [
            "                                   Secuencia  Antimicrobial  Antibacterial  \\\n",
            "0                 GIGAVLKVLTTGLPALISWIKRKRQQ              1              1   \n",
            "1                    GIGKFLHSAKKFGKAFVGEIMNS              1              1   \n",
            "2                              ILPWKWPWWPWRR              1              1   \n",
            "3                          KWCFRVCYRGICYRRCR              1              1   \n",
            "4      LLGDFFRKSKEKIGKEFKRIVQRIKDFLRNLVPRTES              1              1   \n",
            "...                                      ...            ...            ...   \n",
            "37360    SNQKQALAQPQTFAHIRVFFRPLPFAFFGTVGFYS              0              0   \n",
            "37361                          ETVDLKLNLQSNK              0              0   \n",
            "37362                      DRALAPNIRSAKQMVER              0              0   \n",
            "37363        HDNKSKNNTFNGAIAYVIPFLLFIFVIRSLI              0              0   \n",
            "37364                          NEGYLQPAGDMSK              0              0   \n",
            "\n",
            "       Antifungal  Anti-HIV  Antitumor  Anticancer  Anti-Gram positive  \\\n",
            "0               1         1          1           1                   1   \n",
            "1               1         0          1           1                   1   \n",
            "2               1         1          1           1                   1   \n",
            "3               1         1          0           1                   1   \n",
            "4               1         1          0           1                   1   \n",
            "...           ...       ...        ...         ...                 ...   \n",
            "37360           0         0          0           0                   0   \n",
            "37361           0         0          0           0                   0   \n",
            "37362           0         0          0           0                   0   \n",
            "37363           0         0          0           0                   0   \n",
            "37364           0         0          0           0                   0   \n",
            "\n",
            "       Anti-Gram negative  \n",
            "0                       1  \n",
            "1                       1  \n",
            "2                       1  \n",
            "3                       1  \n",
            "4                       1  \n",
            "...                   ...  \n",
            "37360                   0  \n",
            "37361                   0  \n",
            "37362                   0  \n",
            "37363                   0  \n",
            "37364                   0  \n",
            "\n",
            "[37365 rows x 9 columns]\n"
          ]
        }
      ]
    },
    {
      "cell_type": "code",
      "source": [
        "#Subir los csv al drive\n",
        "\n",
        "\n",
        "df_merged_neg_pos.to_csv('df_merged_neg_pos.csv', index=False)"
      ],
      "metadata": {
        "id": "GHVukVq72B8_"
      },
      "execution_count": null,
      "outputs": []
    },
    {
      "cell_type": "code",
      "source": [
        "import pandas as pd\n",
        "df_merged_neg_pos = pd.read_csv(file_df_merged_neg_pos)\n",
        "# Conjunto de caracteres no válidos\n",
        "invalid_characters = set(\"ZBJOUX\")\n",
        "\n",
        "# Función para verificar secuencias válidas\n",
        "def is_valid_sequence(Secuencia):\n",
        "    return not any(char in invalid_characters for char in Secuencia)\n",
        "\n",
        "# Filtrar el DataFrame para eliminar filas con secuencias inválidas\n",
        "df_merged_neg_pos= df_merged_neg_pos[df_merged_neg_pos['Secuencia'].apply(is_valid_sequence)]\n",
        "\n",
        "print(\"\\nDataFrame filtrado:\")\n",
        "print(df_merged_neg_pos.shape)"
      ],
      "metadata": {
        "colab": {
          "base_uri": "https://localhost:8080/"
        },
        "id": "ZChaED6k3WAA",
        "outputId": "671c33e4-04e4-4abd-db46-b669933deed6"
      },
      "execution_count": null,
      "outputs": [
        {
          "output_type": "stream",
          "name": "stdout",
          "text": [
            "\n",
            "DataFrame filtrado:\n",
            "(37117, 9)\n"
          ]
        }
      ]
    },
    {
      "cell_type": "code",
      "source": [
        "#Eliminar registros con menos de 3 aminoacidos distintos\n",
        "def contar_aminoacidos_unicos(secuencia):\n",
        "    return len(set(secuencia))\n",
        "\n",
        "# Filtrar secuencias que tengan 3 o más aminoácidos únicos\n",
        "df_merged_neg_pos = df_merged_neg_pos[df_merged_neg_pos['Secuencia'].apply(contar_aminoacidos_unicos) >= 3]\n",
        "\n",
        "# Mostrar el DataFrame filtrado\n",
        "print(df_merged_neg_pos.shape)\n",
        "df_merged_neg_pos.to_csv('df_merged_neg_pos.csv', index=False)"
      ],
      "metadata": {
        "colab": {
          "base_uri": "https://localhost:8080/"
        },
        "id": "FbmCPfsj8Z_9",
        "outputId": "b2c1265a-43b3-46e0-dc7a-918ad6307f2e"
      },
      "execution_count": null,
      "outputs": [
        {
          "output_type": "stream",
          "name": "stdout",
          "text": [
            "(37117, 9)\n"
          ]
        }
      ]
    },
    {
      "cell_type": "code",
      "source": [
        "!pip install propy3\n"
      ],
      "metadata": {
        "colab": {
          "base_uri": "https://localhost:8080/"
        },
        "id": "wno0dFCLFnN8",
        "outputId": "39c80f1e-2f8b-470e-84fe-01ac0edecfc5"
      },
      "execution_count": null,
      "outputs": [
        {
          "output_type": "stream",
          "name": "stdout",
          "text": [
            "Collecting propy3\n",
            "  Downloading propy3-1.1.1-py3-none-any.whl.metadata (5.6 kB)\n",
            "Downloading propy3-1.1.1-py3-none-any.whl (290 kB)\n",
            "\u001b[2K   \u001b[90m━━━━━━━━━━━━━━━━━━━━━━━━━━━━━━━━━━━━━━━━\u001b[0m \u001b[32m290.3/290.3 kB\u001b[0m \u001b[31m2.4 MB/s\u001b[0m eta \u001b[36m0:00:00\u001b[0m\n",
            "\u001b[?25hInstalling collected packages: propy3\n",
            "Successfully installed propy3-1.1.1\n"
          ]
        }
      ]
    },
    {
      "cell_type": "markdown",
      "source": [
        "##Extracción de características"
      ],
      "metadata": {
        "id": "9fGSyhaqXH-p"
      }
    },
    {
      "cell_type": "code",
      "source": [
        "import pandas as pd\n",
        "from propy import PyPro\n",
        "\n",
        "\n",
        "# Función para calcular AAC para una secuencia\n",
        "def calcular_aac(secuencia):\n",
        "    DesObject = PyPro.GetProDes(secuencia)\n",
        "    return DesObject.GetAAComp()  # Obtener la composición de aminoácidos\n",
        "\n",
        "def calcular_ngram(secuencia):\n",
        "    DesObject = PyPro.GetProDes(secuencia)\n",
        "    return DesObject.GetDPComp()\n",
        "\n",
        "def calcular_paac(secuencia):\n",
        "    DesObject = PyPro.GetProDes(secuencia)\n",
        "    return DesObject.GetPAAC(lamda=5, weight=0.05)\n",
        "\n",
        "def calcular_ctd(secuencia):\n",
        "    DesObject = PyPro.GetProDes(secuencia)\n",
        "    return DesObject.GetCTD()\n",
        "\n",
        "\n",
        "\n",
        "# Aplicar la función a la columna 'Secuencia'\n",
        "aac_results = df_merged_neg_pos['Secuencia'].apply(calcular_aac)\n",
        "ngram_results = df_merged_neg_pos['Secuencia'].apply(calcular_ngram)\n",
        "paac_results = df_merged_neg_pos['Secuencia'].apply(calcular_paac)\n",
        "ctd_results = df_merged_neg_pos['Secuencia'].apply(calcular_ctd)\n",
        "\n",
        "# Convertir la lista de diccionarios a un DataFrame\n",
        "aac_df = pd.DataFrame(aac_results.tolist())\n",
        "ngram_df = pd.DataFrame(ngram_results.tolist())\n",
        "paac_df = pd.DataFrame(paac_results.tolist())\n",
        "ctd_df = pd.DataFrame(ctd_results.tolist())\n",
        "\n",
        "\n",
        "#Concatenar todo en un solo df\n",
        "aac_df.insert(0, 'Secuencia', df_merged_neg_pos['Secuencia'])\n",
        "df_features = pd.concat([aac_df, ngram_df, paac_df, ctd_df], axis=1)\n",
        "\n",
        "\n",
        "# Mostrar el dataframe con las nuevas características\n",
        "#print(aac_df)\n",
        "#print(ngram_df)\n",
        "#print(paac_df)\n",
        "#print(ctd_df)\n",
        "print(df_features)"
      ],
      "metadata": {
        "colab": {
          "base_uri": "https://localhost:8080/"
        },
        "id": "4xmrnAoDXKMt",
        "outputId": "727f8f83-3e19-4a07-f1ad-cbcce630357c"
      },
      "execution_count": null,
      "outputs": [
        {
          "output_type": "stream",
          "name": "stdout",
          "text": [
            "                                   Secuencia       A       R       N      D  \\\n",
            "0                 GIGAVLKVLTTGLPALISWIKRKRQQ   7.692   7.692   0.000  0.000   \n",
            "1                    GIGKFLHSAKKFGKAFVGEIMNS   8.696   0.000   4.348  0.000   \n",
            "2                              ILPWKWPWWPWRR   0.000  15.385   0.000  0.000   \n",
            "3                          KWCFRVCYRGICYRRCR   0.000  29.412   0.000  0.000   \n",
            "4      LLGDFFRKSKEKIGKEFKRIVQRIKDFLRNLVPRTES   0.000  13.514   2.703  5.405   \n",
            "...                                      ...     ...     ...     ...    ...   \n",
            "37112    SNQKQALAQPQTFAHIRVFFRPLPFAFFGTVGFYS  11.429   5.714   2.857  0.000   \n",
            "37113                          ETVDLKLNLQSNK   0.000   0.000  15.385  7.692   \n",
            "37114                      DRALAPNIRSAKQMVER  17.647  17.647   5.882  5.882   \n",
            "37115        HDNKSKNNTFNGAIAYVIPFLLFIFVIRSLI   6.452   3.226  12.903  3.226   \n",
            "37116                          NEGYLQPAGDMSK   7.692   0.000   7.692  7.692   \n",
            "\n",
            "            C      E       Q       G      H  ...  _HydrophobicityD2001  \\\n",
            "0       0.000  0.000   7.692  11.538  0.000  ...                 3.846   \n",
            "1       0.000  4.348   0.000  17.391  4.348  ...                 4.348   \n",
            "2       0.000  0.000   0.000   0.000  0.000  ...                23.077   \n",
            "3      23.529  0.000   0.000   5.882  0.000  ...                47.059   \n",
            "4       0.000  8.108   2.703   5.405  0.000  ...                 8.108   \n",
            "...       ...    ...     ...     ...    ...  ...                   ...   \n",
            "37112   0.000  0.000  11.429   5.714  2.857  ...                 2.857   \n",
            "37113   0.000  7.692   7.692   0.000  0.000  ...                15.385   \n",
            "37114   0.000  5.882   5.882   0.000  0.000  ...                17.647   \n",
            "37115   0.000  0.000   0.000   3.226  3.226  ...                 3.226   \n",
            "37116   0.000  7.692   7.692  15.385  0.000  ...                23.077   \n",
            "\n",
            "       _HydrophobicityD2025  _HydrophobicityD2050  _HydrophobicityD2075  \\\n",
            "0                    11.538                38.462                46.154   \n",
            "1                    13.043                34.783                56.522   \n",
            "2                    76.923                23.077                53.846   \n",
            "3                    76.471                47.059                58.824   \n",
            "4                     8.108                37.838                89.189   \n",
            "...                     ...                   ...                   ...   \n",
            "37112                22.857                42.857                82.857   \n",
            "37113                84.615                15.385                15.385   \n",
            "37114                17.647                29.412                35.294   \n",
            "37115                16.129                38.710                48.387   \n",
            "37116                23.077                53.846                61.538   \n",
            "\n",
            "       _HydrophobicityD2100  _HydrophobicityD3001  _HydrophobicityD3025  \\\n",
            "0                    69.231                 7.692                19.231   \n",
            "1                   100.000                 8.696                21.739   \n",
            "2                    76.923                 7.692                 7.692   \n",
            "3                    76.471                11.765                17.647   \n",
            "4                   100.000                 2.703                13.514   \n",
            "...                     ...                   ...                   ...   \n",
            "37112               100.000                20.000                45.714   \n",
            "37113                84.615                23.077                23.077   \n",
            "37114                64.706                23.529                23.529   \n",
            "37115                93.548                32.258                54.839   \n",
            "37116                92.308                38.462                84.615   \n",
            "\n",
            "       _HydrophobicityD3050  _HydrophobicityD3075  _HydrophobicityD3100  \n",
            "0                    34.615                61.538                76.923  \n",
            "1                    52.174                73.913                91.304  \n",
            "2                    30.769                61.538                84.615  \n",
            "3                    35.294                64.706                94.118  \n",
            "4                    45.946                64.865                86.486  \n",
            "...                     ...                   ...                   ...  \n",
            "37112                57.143                77.143                94.286  \n",
            "37113                38.462                53.846                69.231  \n",
            "37114                47.059                82.353                88.235  \n",
            "37115                70.968                80.645               100.000  \n",
            "37116                38.462                38.462                84.615  \n",
            "\n",
            "[37117 rows x 568 columns]\n"
          ]
        }
      ]
    },
    {
      "cell_type": "code",
      "source": [
        "#unir los df de características en 1 solo\n",
        "df_features = pd.concat([aac_df, ngram_df, paac_df, ctd_df], axis=1)\n",
        "print(df_features)"
      ],
      "metadata": {
        "colab": {
          "base_uri": "https://localhost:8080/"
        },
        "id": "5gKsoNvnNEu3",
        "outputId": "4af55fd6-dc82-412d-a258-e2515902d040"
      },
      "execution_count": null,
      "outputs": [
        {
          "output_type": "stream",
          "name": "stdout",
          "text": [
            "                                   Secuencia       A       R       N      D  \\\n",
            "0                 GIGAVLKVLTTGLPALISWIKRKRQQ   7.692   7.692   0.000  0.000   \n",
            "1                    GIGKFLHSAKKFGKAFVGEIMNS   8.696   0.000   4.348  0.000   \n",
            "2                              ILPWKWPWWPWRR   0.000  15.385   0.000  0.000   \n",
            "3                          KWCFRVCYRGICYRRCR   0.000  29.412   0.000  0.000   \n",
            "4      LLGDFFRKSKEKIGKEFKRIVQRIKDFLRNLVPRTES   0.000  13.514   2.703  5.405   \n",
            "...                                      ...     ...     ...     ...    ...   \n",
            "37112    SNQKQALAQPQTFAHIRVFFRPLPFAFFGTVGFYS  11.429   5.714   2.857  0.000   \n",
            "37113                          ETVDLKLNLQSNK   0.000   0.000  15.385  7.692   \n",
            "37114                      DRALAPNIRSAKQMVER  17.647  17.647   5.882  5.882   \n",
            "37115        HDNKSKNNTFNGAIAYVIPFLLFIFVIRSLI   6.452   3.226  12.903  3.226   \n",
            "37116                          NEGYLQPAGDMSK   7.692   0.000   7.692  7.692   \n",
            "\n",
            "            C      E       Q       G      H  ...  _HydrophobicityD2001  \\\n",
            "0       0.000  0.000   7.692  11.538  0.000  ...                 3.846   \n",
            "1       0.000  4.348   0.000  17.391  4.348  ...                 4.348   \n",
            "2       0.000  0.000   0.000   0.000  0.000  ...                23.077   \n",
            "3      23.529  0.000   0.000   5.882  0.000  ...                47.059   \n",
            "4       0.000  8.108   2.703   5.405  0.000  ...                 8.108   \n",
            "...       ...    ...     ...     ...    ...  ...                   ...   \n",
            "37112   0.000  0.000  11.429   5.714  2.857  ...                 2.857   \n",
            "37113   0.000  7.692   7.692   0.000  0.000  ...                15.385   \n",
            "37114   0.000  5.882   5.882   0.000  0.000  ...                17.647   \n",
            "37115   0.000  0.000   0.000   3.226  3.226  ...                 3.226   \n",
            "37116   0.000  7.692   7.692  15.385  0.000  ...                23.077   \n",
            "\n",
            "       _HydrophobicityD2025  _HydrophobicityD2050  _HydrophobicityD2075  \\\n",
            "0                    11.538                38.462                46.154   \n",
            "1                    13.043                34.783                56.522   \n",
            "2                    76.923                23.077                53.846   \n",
            "3                    76.471                47.059                58.824   \n",
            "4                     8.108                37.838                89.189   \n",
            "...                     ...                   ...                   ...   \n",
            "37112                22.857                42.857                82.857   \n",
            "37113                84.615                15.385                15.385   \n",
            "37114                17.647                29.412                35.294   \n",
            "37115                16.129                38.710                48.387   \n",
            "37116                23.077                53.846                61.538   \n",
            "\n",
            "       _HydrophobicityD2100  _HydrophobicityD3001  _HydrophobicityD3025  \\\n",
            "0                    69.231                 7.692                19.231   \n",
            "1                   100.000                 8.696                21.739   \n",
            "2                    76.923                 7.692                 7.692   \n",
            "3                    76.471                11.765                17.647   \n",
            "4                   100.000                 2.703                13.514   \n",
            "...                     ...                   ...                   ...   \n",
            "37112               100.000                20.000                45.714   \n",
            "37113                84.615                23.077                23.077   \n",
            "37114                64.706                23.529                23.529   \n",
            "37115                93.548                32.258                54.839   \n",
            "37116                92.308                38.462                84.615   \n",
            "\n",
            "       _HydrophobicityD3050  _HydrophobicityD3075  _HydrophobicityD3100  \n",
            "0                    34.615                61.538                76.923  \n",
            "1                    52.174                73.913                91.304  \n",
            "2                    30.769                61.538                84.615  \n",
            "3                    35.294                64.706                94.118  \n",
            "4                    45.946                64.865                86.486  \n",
            "...                     ...                   ...                   ...  \n",
            "37112                57.143                77.143                94.286  \n",
            "37113                38.462                53.846                69.231  \n",
            "37114                47.059                82.353                88.235  \n",
            "37115                70.968                80.645               100.000  \n",
            "37116                38.462                38.462                84.615  \n",
            "\n",
            "[37117 rows x 593 columns]\n"
          ]
        }
      ]
    },
    {
      "cell_type": "code",
      "source": [
        "df_features.to_csv('df_features.csv', index=False)"
      ],
      "metadata": {
        "id": "d8kt_pToMCqs"
      },
      "execution_count": null,
      "outputs": []
    },
    {
      "cell_type": "markdown",
      "source": [
        "#Seleccion de caracteristicas"
      ],
      "metadata": {
        "id": "nuycWn2gOQ5J"
      }
    },
    {
      "cell_type": "code",
      "source": [
        "import numpy as np\n",
        "import pandas as pd\n",
        "\n",
        "df_merged_neg_pos = pd.read_csv(file_df_merged_neg_pos)\n",
        "df_merged_neg_pos_numeric = df_merged_neg_pos.select_dtypes(include =[np.number])\n",
        "\n",
        "df_features = pd.read_csv(file_df_features)\n",
        "df_features_numeric = df_features.select_dtypes(include=[np.number])\n",
        "\n",
        "df_binario = pd.read_csv(file_df_binario)\n"
      ],
      "metadata": {
        "id": "fKbb15j0VZvL"
      },
      "execution_count": null,
      "outputs": []
    },
    {
      "cell_type": "code",
      "source": [
        "df_binario_numeric = df_binario.select_dtypes(include=[np.number])"
      ],
      "metadata": {
        "id": "UYJVo8hvSRE0"
      },
      "execution_count": null,
      "outputs": []
    },
    {
      "cell_type": "code",
      "source": [
        "# Crear una nueva columna 'Binario' que será 1 si hay al menos un 1 en las columnas de actividades, de lo contrario 0\n",
        "df_binario = df_merged_neg_pos[['Secuencia']].copy()  # Copiamos la columna Secuencia\n",
        "df_binario['Amp'] = (df_merged_neg_pos.drop(columns=['Secuencia']).sum(axis=1) > 0).astype(int)  # Sumar por fila y verificar si hay algún 1\n",
        "\n",
        "# Mostrar el DataFrame resultante\n",
        "print(df_binario)\n",
        "\n",
        "df_binario.to_csv('df_binario.csv', index=False)"
      ],
      "metadata": {
        "colab": {
          "base_uri": "https://localhost:8080/"
        },
        "id": "vCZ2GXsUMIPF",
        "outputId": "89ef21dc-0f42-4205-ecd6-c0fe1053942a"
      },
      "execution_count": null,
      "outputs": [
        {
          "output_type": "stream",
          "name": "stdout",
          "text": [
            "                                   Secuencia  Amp\n",
            "0                 GIGAVLKVLTTGLPALISWIKRKRQQ    1\n",
            "1                    GIGKFLHSAKKFGKAFVGEIMNS    1\n",
            "2                              ILPWKWPWWPWRR    1\n",
            "3                          KWCFRVCYRGICYRRCR    1\n",
            "4      LLGDFFRKSKEKIGKEFKRIVQRIKDFLRNLVPRTES    1\n",
            "...                                      ...  ...\n",
            "37112    SNQKQALAQPQTFAHIRVFFRPLPFAFFGTVGFYS    0\n",
            "37113                          ETVDLKLNLQSNK    0\n",
            "37114                      DRALAPNIRSAKQMVER    0\n",
            "37115        HDNKSKNNTFNGAIAYVIPFLLFIFVIRSLI    0\n",
            "37116                          NEGYLQPAGDMSK    0\n",
            "\n",
            "[37117 rows x 2 columns]\n"
          ]
        }
      ]
    },
    {
      "cell_type": "markdown",
      "source": [
        "Eliminando features con baja variabilidad"
      ],
      "metadata": {
        "id": "_PHdm66oP5VW"
      }
    },
    {
      "cell_type": "code",
      "source": [
        "from sklearn.feature_selection import VarianceThreshold\n",
        "\n",
        "# Definir el umbral de varianza ( eliminar características con varianza menor a 0.1)\n",
        "threshold = 0.1\n",
        "selector = VarianceThreshold(threshold=threshold)\n",
        "\n",
        "# Ajustar y transformar el df_features_numeric\n",
        "X_variance_reduced = selector.fit_transform(df_features_numeric)\n",
        "\n",
        "# Crear un nuevo DataFrame con las características seleccionadas\n",
        "df_features_numeric = pd.DataFrame(X_variance_reduced, columns=df_features_numeric.columns[selector.get_support()])\n",
        "\n",
        "# Mostrar el nuevo DataFrame\n",
        "print(df_features_numeric)\n"
      ],
      "metadata": {
        "colab": {
          "base_uri": "https://localhost:8080/"
        },
        "id": "NKsQkdcZQBje",
        "outputId": "bf916427-61ff-475b-9e5b-60a82b89b1cd"
      },
      "execution_count": null,
      "outputs": [
        {
          "output_type": "stream",
          "name": "stdout",
          "text": [
            "            A       R       N      D       C      E       Q       G      H  \\\n",
            "0       7.692   7.692   0.000  0.000   0.000  0.000   7.692  11.538  0.000   \n",
            "1       8.696   0.000   4.348  0.000   0.000  4.348   0.000  17.391  4.348   \n",
            "2       0.000  15.385   0.000  0.000   0.000  0.000   0.000   0.000  0.000   \n",
            "3       0.000  29.412   0.000  0.000  23.529  0.000   0.000   5.882  0.000   \n",
            "4       0.000  13.514   2.703  5.405   0.000  8.108   2.703   5.405  0.000   \n",
            "...       ...     ...     ...    ...     ...    ...     ...     ...    ...   \n",
            "37112  11.429   5.714   2.857  0.000   0.000  0.000  11.429   5.714  2.857   \n",
            "37113   0.000   0.000  15.385  7.692   0.000  7.692   7.692   0.000  0.000   \n",
            "37114  17.647  17.647   5.882  5.882   0.000  5.882   5.882   0.000  0.000   \n",
            "37115   6.452   3.226  12.903  3.226   0.000  0.000   0.000   3.226  3.226   \n",
            "37116   7.692   0.000   7.692  7.692   0.000  7.692   7.692  15.385  0.000   \n",
            "\n",
            "            I  ...  _HydrophobicityD2001  _HydrophobicityD2025  \\\n",
            "0      11.538  ...                 3.846                11.538   \n",
            "1       8.696  ...                 4.348                13.043   \n",
            "2       7.692  ...                23.077                76.923   \n",
            "3       5.882  ...                47.059                76.471   \n",
            "4       8.108  ...                 8.108                 8.108   \n",
            "...       ...  ...                   ...                   ...   \n",
            "37112   2.857  ...                 2.857                22.857   \n",
            "37113   0.000  ...                15.385                84.615   \n",
            "37114   5.882  ...                17.647                17.647   \n",
            "37115  16.129  ...                 3.226                16.129   \n",
            "37116   0.000  ...                23.077                23.077   \n",
            "\n",
            "       _HydrophobicityD2050  _HydrophobicityD2075  _HydrophobicityD2100  \\\n",
            "0                    38.462                46.154                69.231   \n",
            "1                    34.783                56.522               100.000   \n",
            "2                    23.077                53.846                76.923   \n",
            "3                    47.059                58.824                76.471   \n",
            "4                    37.838                89.189               100.000   \n",
            "...                     ...                   ...                   ...   \n",
            "37112                42.857                82.857               100.000   \n",
            "37113                15.385                15.385                84.615   \n",
            "37114                29.412                35.294                64.706   \n",
            "37115                38.710                48.387                93.548   \n",
            "37116                53.846                61.538                92.308   \n",
            "\n",
            "       _HydrophobicityD3001  _HydrophobicityD3025  _HydrophobicityD3050  \\\n",
            "0                     7.692                19.231                34.615   \n",
            "1                     8.696                21.739                52.174   \n",
            "2                     7.692                 7.692                30.769   \n",
            "3                    11.765                17.647                35.294   \n",
            "4                     2.703                13.514                45.946   \n",
            "...                     ...                   ...                   ...   \n",
            "37112                20.000                45.714                57.143   \n",
            "37113                23.077                23.077                38.462   \n",
            "37114                23.529                23.529                47.059   \n",
            "37115                32.258                54.839                70.968   \n",
            "37116                38.462                84.615                38.462   \n",
            "\n",
            "       _HydrophobicityD3075  _HydrophobicityD3100  \n",
            "0                    61.538                76.923  \n",
            "1                    73.913                91.304  \n",
            "2                    61.538                84.615  \n",
            "3                    64.706                94.118  \n",
            "4                    64.865                86.486  \n",
            "...                     ...                   ...  \n",
            "37112                77.143                94.286  \n",
            "37113                53.846                69.231  \n",
            "37114                82.353                88.235  \n",
            "37115                80.645               100.000  \n",
            "37116                38.462                84.615  \n",
            "\n",
            "[37117 rows x 550 columns]\n"
          ]
        }
      ]
    },
    {
      "cell_type": "markdown",
      "source": [
        "Normalizando las features"
      ],
      "metadata": {
        "id": "QMWkXg7vRBEn"
      }
    },
    {
      "cell_type": "code",
      "source": [
        "from sklearn.preprocessing import MinMaxScaler\n",
        "\n",
        "# Crear el escalador MinMaxScaler\n",
        "scaler = MinMaxScaler()\n",
        "\n",
        "# Ajustar y transformar el DataFrame\n",
        "df_features_numeric = pd.DataFrame(scaler.fit_transform(df_features_numeric), columns=df_features_numeric.columns)\n",
        "\n",
        "# Mostrar el DataFrame normalizado\n",
        "print(df_features_numeric)\n"
      ],
      "metadata": {
        "colab": {
          "base_uri": "https://localhost:8080/"
        },
        "id": "V58dM73-RDAv",
        "outputId": "ecf14ffe-dd24-4405-a20b-10ef75b1ab2f"
      },
      "execution_count": null,
      "outputs": [
        {
          "output_type": "stream",
          "name": "stdout",
          "text": [
            "              A         R         N         D         C         E         Q  \\\n",
            "0      0.106833  0.097162  0.000000  0.000000  0.000000  0.000000  0.104891   \n",
            "1      0.120778  0.000000  0.083854  0.000000  0.000000  0.090913  0.000000   \n",
            "2      0.000000  0.194336  0.000000  0.000000  0.000000  0.000000  0.000000   \n",
            "3      0.000000  0.371518  0.000000  0.000000  0.431369  0.000000  0.000000   \n",
            "4      0.000000  0.170702  0.052129  0.075670  0.000000  0.169531  0.036859   \n",
            "...         ...       ...       ...       ...       ...       ...       ...   \n",
            "37112  0.158736  0.072177  0.055099  0.000000  0.000000  0.000000  0.155851   \n",
            "37113  0.000000  0.000000  0.296710  0.107687  0.000000  0.160833  0.104891   \n",
            "37114  0.245097  0.222909  0.113438  0.082348  0.000000  0.122987  0.080209   \n",
            "37115  0.089611  0.040749  0.248843  0.045164  0.000000  0.000000  0.000000   \n",
            "37116  0.106833  0.000000  0.148345  0.107687  0.000000  0.160833  0.104891   \n",
            "\n",
            "              G         H         I  ...  _HydrophobicityD2001  \\\n",
            "0      0.144225  0.000000  0.187494  ...               0.03846   \n",
            "1      0.217387  0.070237  0.141311  ...               0.04348   \n",
            "2      0.000000  0.000000  0.124996  ...               0.23077   \n",
            "3      0.073525  0.000000  0.095583  ...               0.47059   \n",
            "4      0.067563  0.000000  0.131756  ...               0.08108   \n",
            "...         ...       ...       ...  ...                   ...   \n",
            "37112  0.071425  0.046151  0.046427  ...               0.02857   \n",
            "37113  0.000000  0.000000  0.000000  ...               0.15385   \n",
            "37114  0.000000  0.000000  0.095583  ...               0.17647   \n",
            "37115  0.040325  0.052112  0.262098  ...               0.03226   \n",
            "37116  0.192312  0.000000  0.000000  ...               0.23077   \n",
            "\n",
            "       _HydrophobicityD2025  _HydrophobicityD2050  _HydrophobicityD2075  \\\n",
            "0                   0.11538               0.38462               0.46154   \n",
            "1                   0.13043               0.34783               0.56522   \n",
            "2                   0.76923               0.23077               0.53846   \n",
            "3                   0.76471               0.47059               0.58824   \n",
            "4                   0.08108               0.37838               0.89189   \n",
            "...                     ...                   ...                   ...   \n",
            "37112               0.22857               0.42857               0.82857   \n",
            "37113               0.84615               0.15385               0.15385   \n",
            "37114               0.17647               0.29412               0.35294   \n",
            "37115               0.16129               0.38710               0.48387   \n",
            "37116               0.23077               0.53846               0.61538   \n",
            "\n",
            "       _HydrophobicityD2100  _HydrophobicityD3001  _HydrophobicityD3025  \\\n",
            "0                   0.69231               0.07692               0.19231   \n",
            "1                   1.00000               0.08696               0.21739   \n",
            "2                   0.76923               0.07692               0.07692   \n",
            "3                   0.76471               0.11765               0.17647   \n",
            "4                   1.00000               0.02703               0.13514   \n",
            "...                     ...                   ...                   ...   \n",
            "37112               1.00000               0.20000               0.45714   \n",
            "37113               0.84615               0.23077               0.23077   \n",
            "37114               0.64706               0.23529               0.23529   \n",
            "37115               0.93548               0.32258               0.54839   \n",
            "37116               0.92308               0.38462               0.84615   \n",
            "\n",
            "       _HydrophobicityD3050  _HydrophobicityD3075  _HydrophobicityD3100  \n",
            "0                   0.34615               0.61538               0.76923  \n",
            "1                   0.52174               0.73913               0.91304  \n",
            "2                   0.30769               0.61538               0.84615  \n",
            "3                   0.35294               0.64706               0.94118  \n",
            "4                   0.45946               0.64865               0.86486  \n",
            "...                     ...                   ...                   ...  \n",
            "37112               0.57143               0.77143               0.94286  \n",
            "37113               0.38462               0.53846               0.69231  \n",
            "37114               0.47059               0.82353               0.88235  \n",
            "37115               0.70968               0.80645               1.00000  \n",
            "37116               0.38462               0.38462               0.84615  \n",
            "\n",
            "[37117 rows x 550 columns]\n"
          ]
        }
      ]
    },
    {
      "cell_type": "markdown",
      "source": [
        "Eliminando features altamente correlacionadas con mutual_info_classif"
      ],
      "metadata": {
        "id": "OinFh5bzRvon"
      }
    },
    {
      "cell_type": "code",
      "source": [
        "from sklearn.feature_selection import mutual_info_classif\n",
        "import numpy as np\n",
        "\n",
        "# Calcular la información mutua entre cada característica y la variable objetivo\n",
        "y = df_binario_numeric['Amp'].values.ravel()\n",
        "\n",
        "mi = mutual_info_classif(df_features_numeric, y)\n",
        "\n",
        "# Crear un DataFrame para visualizar las características y su información mutua\n",
        "mi_df = pd.DataFrame({'Feature': df_features_numeric.columns, 'Mutual_Information': mi})\n",
        "\n",
        "# Ordenar de mayor a menor información mutua\n",
        "mi_df = mi_df.sort_values(by='Mutual_Information', ascending=False)\n",
        "\n",
        "# Mostrar el DataFrame ordenado\n",
        "print(mi_df)\n",
        "\n",
        "# Eliminar características con baja información mutua\n",
        "# Definir un umbral para seleccionar las características importantes\n",
        "threshold = 0.03\n",
        "selected_features = mi_df[mi_df['Mutual_Information'] > threshold]['Feature']\n",
        "\n",
        "# Crear un nuevo DataFrame solo con las características seleccionadas\n",
        "df_features_numeric = df_features_numeric[selected_features]\n",
        "\n",
        "# Mostrar el nuevo DataFrame con las características seleccionadas\n",
        "print(df_features_numeric)\n"
      ],
      "metadata": {
        "colab": {
          "base_uri": "https://localhost:8080/"
        },
        "id": "xUWi7b5TRz6W",
        "outputId": "131b9248-6592-42a4-ebbf-b8aad8e70068"
      },
      "execution_count": null,
      "outputs": [
        {
          "output_type": "stream",
          "name": "stdout",
          "text": [
            "                        Feature  Mutual_Information\n",
            "470  _SolventAccessibilityD3001            0.178840\n",
            "471  _SolventAccessibilityD3025            0.138045\n",
            "12                            M            0.137794\n",
            "432                      PAAC13            0.123921\n",
            "475          _SecondaryStrD1001            0.109533\n",
            "..                          ...                 ...\n",
            "97                           DW            0.000000\n",
            "148                          QH            0.000000\n",
            "112                          CM            0.000000\n",
            "372                          WM            0.000000\n",
            "328                          SH            0.000000\n",
            "\n",
            "[550 rows x 2 columns]\n",
            "       _SolventAccessibilityD3001  _SolventAccessibilityD3025        M  \\\n",
            "0                         0.38462                     0.38462  0.00000   \n",
            "1                         0.30435                     0.30435  0.10870   \n",
            "2                         0.23077                     0.76923  0.00000   \n",
            "3                         0.47059                     0.76471  0.00000   \n",
            "4                         0.24324                     0.24324  0.00000   \n",
            "...                           ...                         ...      ...   \n",
            "37112                     0.02857                     0.28571  0.00000   \n",
            "37113                     0.15385                     0.84615  0.00000   \n",
            "37114                     0.35294                     0.82353  0.14705   \n",
            "37115                     0.03226                     0.03226  0.00000   \n",
            "37116                     0.30769                     0.30769  0.19230   \n",
            "\n",
            "         PAAC13  _SecondaryStrD1001         K  _ChargeD3100  \\\n",
            "0      0.000000             0.15385  0.158648       0.00000   \n",
            "1      0.111045             0.17391  0.239127       0.82609   \n",
            "2      0.000000             0.15385  0.105765       0.00000   \n",
            "3      0.000000             0.05882  0.080878       0.00000   \n",
            "4      0.000000             0.02703  0.222971       0.97297   \n",
            "...         ...                 ...       ...           ...   \n",
            "37112  0.000000             0.08571  0.039284       0.00000   \n",
            "37113  0.000000             0.07692  0.211545       0.30769   \n",
            "37114  0.146265             0.11765  0.080878       0.94118   \n",
            "37115  0.000000             0.03226  0.088715       0.06452   \n",
            "37116  0.213354             0.15385  0.105765       0.76923   \n",
            "\n",
            "       _HydrophobicityD3001  _ChargeD3075  _PolarizabilityD1001  ...  \\\n",
            "0                   0.07692       0.00000               0.03846  ...   \n",
            "1                   0.08696       0.82609               0.04348  ...   \n",
            "2                   0.07692       0.00000               0.00000  ...   \n",
            "3                   0.11765       0.00000               0.58824  ...   \n",
            "4                   0.02703       0.43243               0.08108  ...   \n",
            "...                     ...           ...                   ...  ...   \n",
            "37112               0.20000       0.00000               0.02857  ...   \n",
            "37113               0.23077       0.07692               0.15385  ...   \n",
            "37114               0.23529       0.05882               0.05882  ...   \n",
            "37115               0.32258       0.06452               0.06452  ...   \n",
            "37116               0.38462       0.15385               0.23077  ...   \n",
            "\n",
            "              N         H  _PolarizabilityD2100  _PolarityD1100  \\\n",
            "0      0.000000  0.000000               1.00000         0.76923   \n",
            "1      0.083854  0.070237               0.95652         0.91304   \n",
            "2      0.000000  0.000000               0.76923         0.84615   \n",
            "3      0.000000  0.000000               0.94118         0.94118   \n",
            "4      0.052129  0.000000               0.97297         0.86486   \n",
            "...         ...       ...                   ...             ...   \n",
            "37112  0.055099  0.046151               0.88571         0.97143   \n",
            "37113  0.296710  0.000000               0.92308         0.69231   \n",
            "37114  0.113438  0.000000               0.94118         0.88235   \n",
            "37115  0.248843  0.052112               1.00000         1.00000   \n",
            "37116  0.148345  0.000000               0.53846         0.84615   \n",
            "\n",
            "       _SolventAccessibilityD1100     PAAC5  _SecondaryStrD1100    PAAC17  \\\n",
            "0                         0.76923  0.000000             1.00000  0.125689   \n",
            "1                         0.86957  0.000000             0.91304  0.000000   \n",
            "2                         0.84615  0.000000             1.00000  0.000000   \n",
            "3                         0.94118  0.262281             1.00000  0.000000   \n",
            "4                         0.86486  0.000000             0.97297  0.037566   \n",
            "...                           ...       ...                 ...       ...   \n",
            "37112                     0.94286  0.000000             0.74286  0.091518   \n",
            "37113                     0.69231  0.000000             1.00000  0.130960   \n",
            "37114                     0.88235  0.000000             1.00000  0.000000   \n",
            "37115                     1.00000  0.000000             0.96774  0.057347   \n",
            "37116                     0.69231  0.000000             1.00000  0.000000   \n",
            "\n",
            "         PAAC18    PAAC19  \n",
            "0      0.062376  0.000000  \n",
            "1      0.000000  0.000000  \n",
            "2      0.494012  0.000000  \n",
            "3      0.074517  0.194805  \n",
            "4      0.000000  0.000000  \n",
            "...         ...       ...  \n",
            "37112  0.000000  0.059378  \n",
            "37113  0.000000  0.000000  \n",
            "37114  0.000000  0.000000  \n",
            "37115  0.000000  0.074415  \n",
            "37116  0.000000  0.164823  \n",
            "\n",
            "[37117 rows x 136 columns]\n"
          ]
        }
      ]
    },
    {
      "cell_type": "code",
      "source": [
        "print(df_features_numeric)"
      ],
      "metadata": {
        "colab": {
          "base_uri": "https://localhost:8080/"
        },
        "id": "OnsQmMcqUm9X",
        "outputId": "58c3e7d8-2c33-4c35-c17d-53cc1ef2f7e0"
      },
      "execution_count": null,
      "outputs": [
        {
          "output_type": "stream",
          "name": "stdout",
          "text": [
            "       _SolventAccessibilityD3001  _SolventAccessibilityD3025        M  \\\n",
            "0                         0.38462                     0.38462  0.00000   \n",
            "1                         0.30435                     0.30435  0.10870   \n",
            "2                         0.23077                     0.76923  0.00000   \n",
            "3                         0.47059                     0.76471  0.00000   \n",
            "4                         0.24324                     0.24324  0.00000   \n",
            "...                           ...                         ...      ...   \n",
            "37112                     0.02857                     0.28571  0.00000   \n",
            "37113                     0.15385                     0.84615  0.00000   \n",
            "37114                     0.35294                     0.82353  0.14705   \n",
            "37115                     0.03226                     0.03226  0.00000   \n",
            "37116                     0.30769                     0.30769  0.19230   \n",
            "\n",
            "         PAAC13  _SecondaryStrD1001         K  _ChargeD3100  \\\n",
            "0      0.000000             0.15385  0.158648       0.00000   \n",
            "1      0.111045             0.17391  0.239127       0.82609   \n",
            "2      0.000000             0.15385  0.105765       0.00000   \n",
            "3      0.000000             0.05882  0.080878       0.00000   \n",
            "4      0.000000             0.02703  0.222971       0.97297   \n",
            "...         ...                 ...       ...           ...   \n",
            "37112  0.000000             0.08571  0.039284       0.00000   \n",
            "37113  0.000000             0.07692  0.211545       0.30769   \n",
            "37114  0.146265             0.11765  0.080878       0.94118   \n",
            "37115  0.000000             0.03226  0.088715       0.06452   \n",
            "37116  0.213354             0.15385  0.105765       0.76923   \n",
            "\n",
            "       _HydrophobicityD3001  _ChargeD3075  _PolarizabilityD1001  ...  \\\n",
            "0                   0.07692       0.00000               0.03846  ...   \n",
            "1                   0.08696       0.82609               0.04348  ...   \n",
            "2                   0.07692       0.00000               0.00000  ...   \n",
            "3                   0.11765       0.00000               0.58824  ...   \n",
            "4                   0.02703       0.43243               0.08108  ...   \n",
            "...                     ...           ...                   ...  ...   \n",
            "37112               0.20000       0.00000               0.02857  ...   \n",
            "37113               0.23077       0.07692               0.15385  ...   \n",
            "37114               0.23529       0.05882               0.05882  ...   \n",
            "37115               0.32258       0.06452               0.06452  ...   \n",
            "37116               0.38462       0.15385               0.23077  ...   \n",
            "\n",
            "              N         H  _PolarizabilityD2100  _PolarityD1100  \\\n",
            "0      0.000000  0.000000               1.00000         0.76923   \n",
            "1      0.083854  0.070237               0.95652         0.91304   \n",
            "2      0.000000  0.000000               0.76923         0.84615   \n",
            "3      0.000000  0.000000               0.94118         0.94118   \n",
            "4      0.052129  0.000000               0.97297         0.86486   \n",
            "...         ...       ...                   ...             ...   \n",
            "37112  0.055099  0.046151               0.88571         0.97143   \n",
            "37113  0.296710  0.000000               0.92308         0.69231   \n",
            "37114  0.113438  0.000000               0.94118         0.88235   \n",
            "37115  0.248843  0.052112               1.00000         1.00000   \n",
            "37116  0.148345  0.000000               0.53846         0.84615   \n",
            "\n",
            "       _SolventAccessibilityD1100     PAAC5  _SecondaryStrD1100    PAAC17  \\\n",
            "0                         0.76923  0.000000             1.00000  0.125689   \n",
            "1                         0.86957  0.000000             0.91304  0.000000   \n",
            "2                         0.84615  0.000000             1.00000  0.000000   \n",
            "3                         0.94118  0.262281             1.00000  0.000000   \n",
            "4                         0.86486  0.000000             0.97297  0.037566   \n",
            "...                           ...       ...                 ...       ...   \n",
            "37112                     0.94286  0.000000             0.74286  0.091518   \n",
            "37113                     0.69231  0.000000             1.00000  0.130960   \n",
            "37114                     0.88235  0.000000             1.00000  0.000000   \n",
            "37115                     1.00000  0.000000             0.96774  0.057347   \n",
            "37116                     0.69231  0.000000             1.00000  0.000000   \n",
            "\n",
            "         PAAC18    PAAC19  \n",
            "0      0.062376  0.000000  \n",
            "1      0.000000  0.000000  \n",
            "2      0.494012  0.000000  \n",
            "3      0.074517  0.194805  \n",
            "4      0.000000  0.000000  \n",
            "...         ...       ...  \n",
            "37112  0.000000  0.059378  \n",
            "37113  0.000000  0.000000  \n",
            "37114  0.000000  0.000000  \n",
            "37115  0.000000  0.074415  \n",
            "37116  0.000000  0.164823  \n",
            "\n",
            "[37117 rows x 136 columns]\n"
          ]
        }
      ]
    },
    {
      "cell_type": "markdown",
      "source": [
        "Utilizando RFECV"
      ],
      "metadata": {
        "id": "BB4NK5s2Vodt"
      }
    },
    {
      "cell_type": "code",
      "source": [
        "from sklearn.feature_selection import RFECV\n",
        "from sklearn.ensemble import RandomForestClassifier  # Puedes usar otros clasificadores si prefieres\n",
        "from sklearn.model_selection import StratifiedKFold\n",
        "\n",
        "# Definir el clasificador (en este caso RandomForest)\n",
        "classifier = RandomForestClassifier(random_state=42)\n",
        "\n",
        "# Definir RFECV con un número mínimo de características y usando validación cruzada\n",
        "rfecv = RFECV(\n",
        "    estimator=classifier,\n",
        "    step=1,  # Número de características eliminadas en cada iteración\n",
        "    cv=StratifiedKFold(3),  # 5-fold cross-validation\n",
        "    scoring='accuracy',  # Puedes cambiar el criterio de evaluación según el caso\n",
        "    min_features_to_select=50  # Establecer el número mínimo de características\n",
        ")\n",
        "\n",
        "# Ajustar RFECV al conjunto de datos\n",
        "rfecv.fit(df_features_numeric, df_binario_numeric['Amp'].values.ravel())\n",
        "\n",
        "# Número óptimo de características seleccionadas\n",
        "print(f\"Número óptimo de características: {rfecv.n_features_}\")\n",
        "\n",
        "# Crear un DataFrame con las características seleccionadas\n",
        "selected_features = df_features_numeric.columns[rfecv.support_]\n",
        "df_features_rfecv = df_features_numeric[selected_features]\n",
        "\n",
        "# Mostrar el DataFrame reducido\n",
        "print(df_features_rfecv)\n"
      ],
      "metadata": {
        "id": "yrj2ANbRVryh",
        "colab": {
          "base_uri": "https://localhost:8080/"
        },
        "outputId": "93784399-3ed8-4999-eaf9-3b1cda224e22"
      },
      "execution_count": null,
      "outputs": [
        {
          "output_type": "stream",
          "name": "stdout",
          "text": [
            "Número óptimo de características: 86\n",
            "       _SolventAccessibilityD3001  _SolventAccessibilityD3025        M  \\\n",
            "0                         0.38462                     0.38462  0.00000   \n",
            "1                         0.30435                     0.30435  0.10870   \n",
            "2                         0.23077                     0.76923  0.00000   \n",
            "3                         0.47059                     0.76471  0.00000   \n",
            "4                         0.24324                     0.24324  0.00000   \n",
            "...                           ...                         ...      ...   \n",
            "37112                     0.02857                     0.28571  0.00000   \n",
            "37113                     0.15385                     0.84615  0.00000   \n",
            "37114                     0.35294                     0.82353  0.14705   \n",
            "37115                     0.03226                     0.03226  0.00000   \n",
            "37116                     0.30769                     0.30769  0.19230   \n",
            "\n",
            "         PAAC13  _SecondaryStrD1001         K  _ChargeD3100  \\\n",
            "0      0.000000             0.15385  0.158648       0.00000   \n",
            "1      0.111045             0.17391  0.239127       0.82609   \n",
            "2      0.000000             0.15385  0.105765       0.00000   \n",
            "3      0.000000             0.05882  0.080878       0.00000   \n",
            "4      0.000000             0.02703  0.222971       0.97297   \n",
            "...         ...                 ...       ...           ...   \n",
            "37112  0.000000             0.08571  0.039284       0.00000   \n",
            "37113  0.000000             0.07692  0.211545       0.30769   \n",
            "37114  0.146265             0.11765  0.080878       0.94118   \n",
            "37115  0.000000             0.03226  0.088715       0.06452   \n",
            "37116  0.213354             0.15385  0.105765       0.76923   \n",
            "\n",
            "       _HydrophobicityD3001  _ChargeD3075  _PolarizabilityD1001  ...  \\\n",
            "0                   0.07692       0.00000               0.03846  ...   \n",
            "1                   0.08696       0.82609               0.04348  ...   \n",
            "2                   0.07692       0.00000               0.00000  ...   \n",
            "3                   0.11765       0.00000               0.58824  ...   \n",
            "4                   0.02703       0.43243               0.08108  ...   \n",
            "...                     ...           ...                   ...  ...   \n",
            "37112               0.20000       0.00000               0.02857  ...   \n",
            "37113               0.23077       0.07692               0.15385  ...   \n",
            "37114               0.23529       0.05882               0.05882  ...   \n",
            "37115               0.32258       0.06452               0.06452  ...   \n",
            "37116               0.38462       0.15385               0.23077  ...   \n",
            "\n",
            "       _SecondaryStrD1050    PAAC22  _SecondaryStrD2050         Q     PAAC2  \\\n",
            "0                 0.57692  0.283954             0.38462  0.104891  0.086880   \n",
            "1                 0.43478  0.444310             0.52174  0.000000  0.000000   \n",
            "2                 0.38462  0.339267             0.46154  0.000000  0.137600   \n",
            "3                 0.52941  0.470860             0.41176  0.000000  0.259409   \n",
            "4                 0.43243  0.532257             0.54054  0.036859  0.129852   \n",
            "...                   ...       ...                 ...       ...       ...   \n",
            "37112             0.25714  0.307940             0.57143  0.155851  0.063260   \n",
            "37113             0.46154  0.140645             0.15385  0.104891  0.000000   \n",
            "37114             0.52941  0.445014             0.47059  0.080209  0.180589   \n",
            "37115             0.41935  0.226228             0.58065  0.000000  0.039640   \n",
            "37116             0.46154  0.320008             0.30769  0.104891  0.000000   \n",
            "\n",
            "       _SecondaryStrD1075     PAAC5    PAAC17    PAAC18    PAAC19  \n",
            "0                 0.84615  0.000000  0.125689  0.062376  0.000000  \n",
            "1                 0.60870  0.000000  0.000000  0.000000  0.000000  \n",
            "2                 0.92308  0.000000  0.000000  0.494012  0.000000  \n",
            "3                 0.82353  0.262281  0.000000  0.074517  0.194805  \n",
            "4                 0.67568  0.000000  0.037566  0.000000  0.000000  \n",
            "...                   ...       ...       ...       ...       ...  \n",
            "37112             0.42857  0.000000  0.091518  0.000000  0.059378  \n",
            "37113             0.69231  0.000000  0.130960  0.000000  0.000000  \n",
            "37114             0.76471  0.000000  0.000000  0.000000  0.000000  \n",
            "37115             0.67742  0.000000  0.057347  0.000000  0.074415  \n",
            "37116             0.61538  0.000000  0.000000  0.000000  0.164823  \n",
            "\n",
            "[37117 rows x 86 columns]\n"
          ]
        }
      ]
    },
    {
      "cell_type": "markdown",
      "source": [
        "------------------------------------------------------------------------------------------------------------------------------------------------------------"
      ],
      "metadata": {
        "id": "i8S3cisRlxGc"
      }
    },
    {
      "cell_type": "code",
      "source": [
        "df_features_rfecv.to_csv('df_features_rfecv.csv', index=False)"
      ],
      "metadata": {
        "id": "awwZk1A1PZWK"
      },
      "execution_count": null,
      "outputs": []
    },
    {
      "cell_type": "code",
      "source": [
        "# #Percentil\n",
        "# from sklearn.feature_selection import SelectPercentile, f_classif\n",
        "# import pandas as pd\n",
        "# import numpy as np\n",
        "\n",
        "\n",
        "\n",
        "# # Lista para almacenar las características seleccionadas por etiqueta\n",
        "# selected_features_per_label = []\n",
        "\n",
        "# # Itera sobre cada columna en df_merged_neg_pos (excepto la columna de secuencias)\n",
        "# for label in df_merged_neg_pos_numeric.columns:\n",
        "#     # Inicializa SelectPercentile para cada etiqueta\n",
        "#     selector = SelectPercentile(score_func=f_classif, percentile=10)  # Selecciona el 10% de mejores características\n",
        "\n",
        "#     # Ajusta el selector a las características y a la etiqueta correspondiente\n",
        "#     selector.fit(df_features_numeric, df_merged_neg_pos_numeric[label])\n",
        "\n",
        "#     # Guarda las características seleccionadas para esta etiqueta\n",
        "#     selected_features = df_features_numeric.columns[selector.get_support()]\n",
        "#     selected_features_per_label.append((label, list(selected_features)))\n",
        "\n",
        "# # Imprime las características seleccionadas para cada etiqueta usando los nombres de columna\n",
        "# for label, features in selected_features_per_label:\n",
        "#     print(f\"Características seleccionadas para la etiqueta '{label}': {features}\")\n"
      ],
      "metadata": {
        "colab": {
          "base_uri": "https://localhost:8080/"
        },
        "id": "_i9Rwz0WOXWq",
        "outputId": "d2cf8392-5152-4a09-e1da-0aab4d98ac06"
      },
      "execution_count": null,
      "outputs": [
        {
          "output_type": "stream",
          "name": "stdout",
          "text": [
            "Características seleccionadas para la etiqueta 'Antimicrobial': ['D', 'C', 'E', 'G', 'K', 'M', 'T', 'Y', 'RC', 'CR', 'CK', 'CY', 'GC', 'GL', 'GK', 'IC', 'LG', 'KC', 'KI', 'KK', 'MR', 'ML', 'SC', 'TC', 'VE', 'PAAC4', 'PAAC5', 'PAAC6', 'PAAC8', 'PAAC12', 'PAAC13', 'PAAC19', 'PAAC22', '_SolventAccessibilityC1', '_SolventAccessibilityC3', '_ChargeC1', '_ChargeC3', '_SolventAccessibilityT23', '_ChargeT12', '_ChargeT23', '_PolarityT12', '_PolarizabilityD3001', '_SolventAccessibilityD1001', '_SolventAccessibilityD3001', '_SolventAccessibilityD3025', '_SolventAccessibilityD3050', '_SecondaryStrD1001', '_SecondaryStrD1025', '_SecondaryStrD2001', '_SecondaryStrD3001', '_ChargeD1075', '_ChargeD1100', '_ChargeD3001', '_ChargeD3025', '_ChargeD3050', '_ChargeD3075', '_ChargeD3100', '_PolarityD1075', '_NormalizedVDWVD3001', '_HydrophobicityD3075']\n",
            "Características seleccionadas para la etiqueta 'Antibacterial': ['D', 'C', 'E', 'Q', 'G', 'K', 'M', 'Y', 'AG', 'CR', 'CC', 'CK', 'QW', 'GC', 'GL', 'GK', 'IG', 'LG', 'LP', 'KC', 'KI', 'FL', 'SC', 'TC', 'PAAC4', 'PAAC5', 'PAAC6', 'PAAC7', 'PAAC8', 'PAAC12', 'PAAC13', 'PAAC19', 'PAAC24', '_SolventAccessibilityC1', '_SolventAccessibilityC2', '_SolventAccessibilityC3', '_ChargeC3', '_PolarityC3', '_NormalizedVDWVC1', '_HydrophobicityC1', '_SolventAccessibilityT23', '_ChargeT12', '_ChargeT23', '_PolarityT12', '_HydrophobicityT23', '_PolarizabilityD2001', '_SolventAccessibilityD1001', '_SolventAccessibilityD3001', '_SolventAccessibilityD3025', '_SecondaryStrD1050', '_SecondaryStrD2001', '_SecondaryStrD3001', '_ChargeD1075', '_ChargeD1100', '_ChargeD3025', '_ChargeD3050', '_ChargeD3075', '_ChargeD3100', '_PolarityD2001', '_NormalizedVDWVD1001']\n",
            "Características seleccionadas para la etiqueta 'Antifungal': ['D', 'C', 'E', 'Q', 'G', 'K', 'M', 'T', 'AK', 'CR', 'CK', 'CY', 'GK', 'IE', 'IK', 'LG', 'LK', 'KC', 'KG', 'KI', 'KL', 'KK', 'FL', 'PAAC4', 'PAAC5', 'PAAC6', 'PAAC7', 'PAAC8', 'PAAC12', 'PAAC13', 'PAAC17', 'PAAC21', 'PAAC22', 'PAAC24', 'PAAC25', '_PolarizabilityC3', '_SolventAccessibilityC1', '_SolventAccessibilityC3', '_ChargeC1', '_ChargeC3', '_NormalizedVDWVC2', '_NormalizedVDWVC3', '_PolarizabilityT23', '_SolventAccessibilityT12', '_SolventAccessibilityT23', '_ChargeT12', '_ChargeT23', '_SolventAccessibilityD1001', '_SolventAccessibilityD3001', '_SolventAccessibilityD3025', '_SecondaryStrD2001', '_ChargeD1075', '_ChargeD1100', '_ChargeD3001', '_ChargeD3025', '_ChargeD3050', '_ChargeD3075', '_ChargeD3100', '_PolarityD3075']\n",
            "Características seleccionadas para la etiqueta 'Anti-HIV': ['R', 'E', 'Q', 'K', 'M', 'W', 'AE', 'NE', 'NQ', 'EA', 'EE', 'EQ', 'EL', 'ES', 'EW', 'EV', 'QN', 'QE', 'QQ', 'IE', 'IH', 'IP', 'LE', 'LI', 'KN', 'SQ', 'SL', 'SW', 'TE', 'WA', 'WN', 'WD', 'WM', 'YQ', 'YT', 'VW', 'PAAC2', 'PAAC6', 'PAAC7', 'PAAC12', 'PAAC13', 'PAAC18', '_PolarizabilityC2', '_PolarizabilityC3', '_ChargeC1', '_ChargeC3', '_NormalizedVDWVC2', '_NormalizedVDWVC3', '_ChargeT12', '_ChargeT23', '_PolarizabilityD3001', '_PolarizabilityD3025', '_SecondaryStrD1001', '_SecondaryStrD1100', '_ChargeD1075', '_ChargeD1100', '_ChargeD3075', '_NormalizedVDWVD3001', '_NormalizedVDWVD3025', '_HydrophobicityD2050']\n",
            "Características seleccionadas para la etiqueta 'Antitumor': ['A', 'N', 'D', 'E', 'Q', 'L', 'K', 'M', 'T', 'AL', 'AK', 'LA', 'LK', 'KA', 'KI', 'KL', 'KK', 'KF', 'KW', 'FA', 'WK', 'PAAC1', 'PAAC3', 'PAAC4', 'PAAC6', 'PAAC7', 'PAAC11', 'PAAC12', 'PAAC13', 'PAAC17', 'PAAC22', 'PAAC24', 'PAAC25', '_PolarizabilityC3', '_SolventAccessibilityC1', '_SolventAccessibilityC3', '_SecondaryStrC1', '_SecondaryStrC3', '_ChargeC1', '_ChargeC3', '_NormalizedVDWVC3', '_SolventAccessibilityT12', '_SolventAccessibilityT13', '_SolventAccessibilityT23', '_SecondaryStrT13', '_SecondaryStrT23', '_ChargeT12', '_ChargeT23', '_SolventAccessibilityD3075', '_SolventAccessibilityD3100', '_SecondaryStrD2050', '_SecondaryStrD2075', '_SecondaryStrD2100', '_SecondaryStrD3050', '_SecondaryStrD3075', '_SecondaryStrD3100', '_ChargeD3025', '_ChargeD3050', '_ChargeD3075', '_ChargeD3100']\n",
            "Características seleccionadas para la etiqueta 'Anticancer': ['N', 'D', 'E', 'L', 'K', 'M', 'AK', 'LA', 'LK', 'KA', 'KI', 'KL', 'KK', 'KF', 'FK', 'PAAC3', 'PAAC4', 'PAAC6', 'PAAC12', 'PAAC13', 'PAAC19', 'PAAC20', 'PAAC22', 'PAAC25', '_PolarizabilityC1', '_PolarizabilityC3', '_SolventAccessibilityC3', '_SecondaryStrC1', '_SecondaryStrC3', '_ChargeC1', '_ChargeC2', '_ChargeC3', '_NormalizedVDWVC3', '_HydrophobicityC2', '_SolventAccessibilityT12', '_SolventAccessibilityT23', '_SecondaryStrT13', '_ChargeT12', '_ChargeT23', '_PolarizabilityD1075', '_PolarizabilityD1100', '_SolventAccessibilityD3075', '_SolventAccessibilityD3100', '_SecondaryStrD2075', '_SecondaryStrD2100', '_SecondaryStrD3050', '_SecondaryStrD3075', '_SecondaryStrD3100', '_ChargeD2001', '_ChargeD3001', '_ChargeD3025', '_ChargeD3050', '_ChargeD3075', '_ChargeD3100', '_PolarityD2075', '_PolarityD2100', '_NormalizedVDWVD1075', '_NormalizedVDWVD1100', '_HydrophobicityD2075', '_HydrophobicityD2100']\n",
            "Características seleccionadas para la etiqueta 'Anti-Gram positive': ['D', 'E', 'K', 'M', 'T', 'W', 'GK', 'IK', 'LK', 'KI', 'KL', 'KK', 'KW', 'WK', 'PAAC4', 'PAAC6', 'PAAC12', 'PAAC13', 'PAAC17', 'PAAC18', 'PAAC21', 'PAAC22', 'PAAC25', '_PolarizabilityC1', '_PolarizabilityC3', '_SolventAccessibilityC1', '_SolventAccessibilityC3', '_SecondaryStrC3', '_ChargeC1', '_ChargeC2', '_ChargeC3', '_NormalizedVDWVC1', '_NormalizedVDWVC3', '_HydrophobicityC2', '_PolarizabilityT12', '_PolarizabilityT23', '_SolventAccessibilityT12', '_SolventAccessibilityT13', '_SolventAccessibilityT23', '_ChargeT12', '_ChargeT23', '_PolarityT13', '_NormalizedVDWVT12', '_HydrophobicityT13', '_PolarizabilityD1075', '_PolarizabilityD1100', '_SolventAccessibilityD3001', '_SolventAccessibilityD3100', '_SecondaryStrD3075', '_SecondaryStrD3100', '_ChargeD1075', '_ChargeD1100', '_ChargeD3001', '_ChargeD3025', '_ChargeD3050', '_ChargeD3075', '_ChargeD3100', '_PolarityD2100', '_NormalizedVDWVD1100', '_HydrophobicityD2100']\n",
            "Características seleccionadas para la etiqueta 'Anti-Gram negative': ['D', 'E', 'K', 'M', 'T', 'LK', 'KI', 'KL', 'KK', 'KW', 'WK', 'PAAC4', 'PAAC6', 'PAAC12', 'PAAC13', 'PAAC17', 'PAAC21', 'PAAC22', 'PAAC25', '_PolarizabilityC1', '_PolarizabilityC3', '_SolventAccessibilityC1', '_SolventAccessibilityC3', '_SecondaryStrC1', '_SecondaryStrC3', '_ChargeC1', '_ChargeC2', '_ChargeC3', '_NormalizedVDWVC1', '_NormalizedVDWVC3', '_HydrophobicityC2', '_PolarizabilityT12', '_PolarizabilityT23', '_SolventAccessibilityT12', '_SolventAccessibilityT13', '_SolventAccessibilityT23', '_ChargeT12', '_ChargeT23', '_PolarityT13', '_NormalizedVDWVT12', '_NormalizedVDWVT23', '_HydrophobicityT13', '_PolarizabilityD1075', '_PolarizabilityD1100', '_SolventAccessibilityD3001', '_SolventAccessibilityD3100', '_SecondaryStrD3075', '_SecondaryStrD3100', '_ChargeD1075', '_ChargeD1100', '_ChargeD3001', '_ChargeD3025', '_ChargeD3050', '_ChargeD3075', '_ChargeD3100', '_PolarityD2100', '_NormalizedVDWVD1075', '_NormalizedVDWVD1100', '_HydrophobicityD2075', '_HydrophobicityD2100']\n"
          ]
        }
      ]
    },
    {
      "cell_type": "code",
      "source": [
        "# from collections import Counter\n",
        "\n",
        "# # Lista de todas las características seleccionadas\n",
        "# all_features = [\n",
        "#     'D', 'C', 'E', 'G', 'K', 'M', 'T', 'Y', 'RC', 'CR', 'CK', 'CY', 'GC', 'GL', 'GK', 'IC', 'LG', 'KC', 'KI', 'KK', 'MR', 'ML', 'SC', 'TC', 'VE', 'PAAC4', 'PAAC5', 'PAAC6', 'PAAC8', 'PAAC12', 'PAAC13', 'PAAC19', 'PAAC22', '_SolventAccessibilityC1', '_SolventAccessibilityC3', '_ChargeC1', '_ChargeC3', '_SolventAccessibilityT23', '_ChargeT12', '_ChargeT23', '_PolarityT12', '_PolarizabilityD3001', '_SolventAccessibilityD1001', '_SolventAccessibilityD3001', '_SolventAccessibilityD3025', '_SolventAccessibilityD3050', '_SecondaryStrD1001', '_SecondaryStrD1025', '_SecondaryStrD2001', '_SecondaryStrD3001', '_ChargeD1075', '_ChargeD1100', '_ChargeD3001', '_ChargeD3025', '_ChargeD3050', '_ChargeD3075', '_ChargeD3100', '_PolarityD1075', '_NormalizedVDWVD3001', '_HydrophobicityD3075',  # Antimicrobial\n",
        "#     'D', 'C', 'E', 'Q', 'G', 'K', 'M', 'Y', 'AG', 'CR', 'CC', 'CK', 'QW', 'GC', 'GL', 'GK', 'IG', 'LG', 'LP', 'KC', 'KI', 'FL', 'SC', 'TC', 'PAAC4', 'PAAC5', 'PAAC6', 'PAAC7', 'PAAC8', 'PAAC12', 'PAAC13', 'PAAC19', 'PAAC24', '_SolventAccessibilityC1', '_SolventAccessibilityC2', '_SolventAccessibilityC3', '_ChargeC3', '_PolarityC3', '_NormalizedVDWVC1', '_HydrophobicityC1', '_SolventAccessibilityT23', '_ChargeT12', '_ChargeT23', '_PolarityT12', '_HydrophobicityT23', '_PolarizabilityD2001', '_SolventAccessibilityD1001', '_SolventAccessibilityD3001', '_SolventAccessibilityD3025', '_SecondaryStrD1050', '_SecondaryStrD2001', '_SecondaryStrD3001', '_ChargeD1075', '_ChargeD1100', '_ChargeD3025', '_ChargeD3050', '_ChargeD3075', '_ChargeD3100', '_PolarityD2001', '_NormalizedVDWVD1001',  # Antibacterial\n",
        "#     'D', 'C', 'E', 'Q', 'G', 'K', 'M', 'T', 'AK', 'CR', 'CK', 'CY', 'GK', 'IE', 'IK', 'LG', 'LK', 'KC', 'KG', 'KI', 'KL', 'KK', 'FL', 'PAAC4', 'PAAC5', 'PAAC6', 'PAAC7', 'PAAC8', 'PAAC12', 'PAAC13', 'PAAC17', 'PAAC21', 'PAAC22', 'PAAC24', 'PAAC25', '_PolarizabilityC3', '_SolventAccessibilityC1', '_SolventAccessibilityC3', '_ChargeC1', '_ChargeC3', '_NormalizedVDWVC2', '_NormalizedVDWVC3', '_PolarizabilityT23', '_SolventAccessibilityT12', '_SolventAccessibilityT23', '_ChargeT12', '_ChargeT23', '_SolventAccessibilityD1001', '_SolventAccessibilityD3001', '_SolventAccessibilityD3025', '_SecondaryStrD2001', '_ChargeD1075', '_ChargeD1100', '_ChargeD3001', '_ChargeD3025', '_ChargeD3050', '_ChargeD3075', '_ChargeD3100', '_PolarityD3075',\n",
        "#     'R', 'E', 'Q', 'K', 'M', 'W', 'AE', 'NE', 'NQ', 'EA', 'EE', 'EQ', 'EL', 'ES', 'EW', 'EV', 'QN', 'QE', 'QQ', 'IE', 'IH', 'IP', 'LE', 'LI', 'KN', 'SQ', 'SL', 'SW', 'TE', 'WA', 'WN', 'WD', 'WM', 'YQ', 'YT', 'VW', 'PAAC2', 'PAAC6', 'PAAC7', 'PAAC12', 'PAAC13', 'PAAC18', '_PolarizabilityC2', '_PolarizabilityC3', '_ChargeC1', '_ChargeC3', '_NormalizedVDWVC2', '_NormalizedVDWVC3', '_ChargeT12', '_ChargeT23', '_PolarizabilityD3001', '_PolarizabilityD3025', '_SecondaryStrD1001', '_SecondaryStrD1100', '_ChargeD1075', '_ChargeD1100', '_ChargeD3075', '_NormalizedVDWVD3001', '_NormalizedVDWVD3025', '_HydrophobicityD2050',\n",
        "#     'A', 'N', 'D', 'E', 'Q', 'L', 'K', 'M', 'T', 'AL', 'AK', 'LA', 'LK', 'KA', 'KI', 'KL', 'KK', 'KF', 'KW', 'FA', 'WK', 'PAAC1', 'PAAC3', 'PAAC4', 'PAAC6', 'PAAC7', 'PAAC11', 'PAAC12', 'PAAC13', 'PAAC17', 'PAAC22', 'PAAC24', 'PAAC25', '_PolarizabilityC3', '_SolventAccessibilityC1', '_SolventAccessibilityC3', '_SecondaryStrC1', '_SecondaryStrC3', '_ChargeC1', '_ChargeC3', '_NormalizedVDWVC3', '_SolventAccessibilityT12', '_SolventAccessibilityT13', '_SolventAccessibilityT23', '_SecondaryStrT13', '_SecondaryStrT23', '_ChargeT12', '_ChargeT23', '_SolventAccessibilityD3075', '_SolventAccessibilityD3100', '_SecondaryStrD2050', '_SecondaryStrD2075', '_SecondaryStrD2100', '_SecondaryStrD3050', '_SecondaryStrD3075', '_SecondaryStrD3100', '_ChargeD3025', '_ChargeD3050', '_ChargeD3075', '_ChargeD3100',\n",
        "#     'N', 'D', 'E', 'L', 'K', 'M', 'AK', 'LA', 'LK', 'KA', 'KI', 'KL', 'KK', 'KF', 'FK', 'PAAC3', 'PAAC4', 'PAAC6', 'PAAC12', 'PAAC13', 'PAAC19', 'PAAC20', 'PAAC22', 'PAAC25', '_PolarizabilityC1', '_PolarizabilityC3', '_SolventAccessibilityC3', '_SecondaryStrC1', '_SecondaryStrC3', '_ChargeC1', '_ChargeC2', '_ChargeC3', '_NormalizedVDWVC3', '_HydrophobicityC2', '_SolventAccessibilityT12', '_SolventAccessibilityT23', '_SecondaryStrT13', '_ChargeT12', '_ChargeT23', '_PolarizabilityD1075', '_PolarizabilityD1100', '_SolventAccessibilityD3075', '_SolventAccessibilityD3100', '_SecondaryStrD2075', '_SecondaryStrD2100', '_SecondaryStrD3050', '_SecondaryStrD3075', '_SecondaryStrD3100', '_ChargeD2001', '_ChargeD3001', '_ChargeD3025', '_ChargeD3050', '_ChargeD3075', '_ChargeD3100', '_PolarityD2075', '_PolarityD2100', '_NormalizedVDWVD1075', '_NormalizedVDWVD1100', '_HydrophobicityD2075', '_HydrophobicityD2100',\n",
        "#     'D', 'E', 'K', 'M', 'T', 'W', 'GK', 'IK', 'LK', 'KI', 'KL', 'KK', 'KW', 'WK', 'PAAC4', 'PAAC6', 'PAAC12', 'PAAC13', 'PAAC17', 'PAAC18', 'PAAC21', 'PAAC22', 'PAAC25', '_PolarizabilityC1', '_PolarizabilityC3', '_SolventAccessibilityC1', '_SolventAccessibilityC3', '_SecondaryStrC3', '_ChargeC1', '_ChargeC2', '_ChargeC3', '_NormalizedVDWVC1', '_NormalizedVDWVC3', '_HydrophobicityC2', '_PolarizabilityT12', '_PolarizabilityT23', '_SolventAccessibilityT12', '_SolventAccessibilityT13', '_SolventAccessibilityT23', '_ChargeT12', '_ChargeT23', '_PolarityT13', '_NormalizedVDWVT12', '_HydrophobicityT13', '_PolarizabilityD1075', '_PolarizabilityD1100', '_SolventAccessibilityD3001', '_SolventAccessibilityD3100', '_SecondaryStrD3075', '_SecondaryStrD3100', '_ChargeD1075', '_ChargeD1100', '_ChargeD3001', '_ChargeD3025', '_ChargeD3050', '_ChargeD3075', '_ChargeD3100', '_PolarityD2100', '_NormalizedVDWVD1100', '_HydrophobicityD2100',\n",
        "#     'D', 'E', 'K', 'M', 'T', 'LK', 'KI', 'KL', 'KK', 'KW', 'WK', 'PAAC4', 'PAAC6', 'PAAC12', 'PAAC13', 'PAAC17', 'PAAC21', 'PAAC22', 'PAAC25', '_PolarizabilityC1', '_PolarizabilityC3', '_SolventAccessibilityC1', '_SolventAccessibilityC3', '_SecondaryStrC1', '_SecondaryStrC3', '_ChargeC1', '_ChargeC2', '_ChargeC3', '_NormalizedVDWVC1', '_NormalizedVDWVC3', '_HydrophobicityC2', '_PolarizabilityT12', '_PolarizabilityT23', '_SolventAccessibilityT12', '_SolventAccessibilityT13', '_SolventAccessibilityT23', '_ChargeT12', '_ChargeT23', '_PolarityT13', '_NormalizedVDWVT12', '_NormalizedVDWVT23', '_HydrophobicityT13', '_PolarizabilityD1075', '_PolarizabilityD1100', '_SolventAccessibilityD3001', '_SolventAccessibilityD3100', '_SecondaryStrD3075', '_SecondaryStrD3100', '_ChargeD1075', '_ChargeD1100', '_ChargeD3001', '_ChargeD3025', '_ChargeD3050', '_ChargeD3075', '_ChargeD3100', '_PolarityD2100', '_NormalizedVDWVD1075', '_NormalizedVDWVD1100', '_HydrophobicityD2075', '_HydrophobicityD2100'\n",
        "\n",
        "# ]\n",
        "\n",
        "# # Contar la frecuencia de cada característica\n",
        "# feature_counts = Counter(all_features)\n",
        "\n",
        "# # Mostrar las características más comunes\n",
        "# for feature, count in feature_counts.most_common():\n",
        "#     print(f\"{feature}: {count}\")"
      ],
      "metadata": {
        "colab": {
          "base_uri": "https://localhost:8080/"
        },
        "id": "T5j8jwEZT_Iw",
        "outputId": "14dd98c5-8538-4ffa-fb35-96472a33ef21"
      },
      "execution_count": null,
      "outputs": [
        {
          "output_type": "stream",
          "name": "stdout",
          "text": [
            "E: 8\n",
            "K: 8\n",
            "M: 8\n",
            "PAAC6: 8\n",
            "PAAC12: 8\n",
            "PAAC13: 8\n",
            "_ChargeC3: 8\n",
            "_ChargeT12: 8\n",
            "_ChargeT23: 8\n",
            "_ChargeD3075: 8\n",
            "D: 7\n",
            "KI: 7\n",
            "PAAC4: 7\n",
            "_SolventAccessibilityC3: 7\n",
            "_ChargeC1: 7\n",
            "_SolventAccessibilityT23: 7\n",
            "_ChargeD3025: 7\n",
            "_ChargeD3050: 7\n",
            "_ChargeD3100: 7\n",
            "KK: 6\n",
            "PAAC22: 6\n",
            "_SolventAccessibilityC1: 6\n",
            "_ChargeD1075: 6\n",
            "_ChargeD1100: 6\n",
            "_PolarizabilityC3: 6\n",
            "_NormalizedVDWVC3: 6\n",
            "T: 5\n",
            "_SolventAccessibilityD3001: 5\n",
            "_ChargeD3001: 5\n",
            "LK: 5\n",
            "KL: 5\n",
            "PAAC25: 5\n",
            "_SolventAccessibilityT12: 5\n",
            "GK: 4\n",
            "Q: 4\n",
            "PAAC7: 4\n",
            "PAAC17: 4\n",
            "_SecondaryStrC3: 4\n",
            "_SolventAccessibilityD3100: 4\n",
            "_SecondaryStrD3075: 4\n",
            "_SecondaryStrD3100: 4\n",
            "C: 3\n",
            "G: 3\n",
            "CR: 3\n",
            "CK: 3\n",
            "LG: 3\n",
            "KC: 3\n",
            "PAAC5: 3\n",
            "PAAC8: 3\n",
            "PAAC19: 3\n",
            "_SolventAccessibilityD1001: 3\n",
            "_SolventAccessibilityD3025: 3\n",
            "_SecondaryStrD2001: 3\n",
            "PAAC24: 3\n",
            "_NormalizedVDWVC1: 3\n",
            "AK: 3\n",
            "PAAC21: 3\n",
            "_PolarizabilityT23: 3\n",
            "KW: 3\n",
            "WK: 3\n",
            "_SecondaryStrC1: 3\n",
            "_SolventAccessibilityT13: 3\n",
            "_PolarizabilityC1: 3\n",
            "_ChargeC2: 3\n",
            "_HydrophobicityC2: 3\n",
            "_PolarizabilityD1075: 3\n",
            "_PolarizabilityD1100: 3\n",
            "_PolarityD2100: 3\n",
            "_NormalizedVDWVD1100: 3\n",
            "_HydrophobicityD2100: 3\n",
            "Y: 2\n",
            "CY: 2\n",
            "GC: 2\n",
            "GL: 2\n",
            "SC: 2\n",
            "TC: 2\n",
            "_PolarityT12: 2\n",
            "_PolarizabilityD3001: 2\n",
            "_SecondaryStrD1001: 2\n",
            "_SecondaryStrD3001: 2\n",
            "_NormalizedVDWVD3001: 2\n",
            "FL: 2\n",
            "IE: 2\n",
            "IK: 2\n",
            "_NormalizedVDWVC2: 2\n",
            "W: 2\n",
            "PAAC18: 2\n",
            "N: 2\n",
            "L: 2\n",
            "LA: 2\n",
            "KA: 2\n",
            "KF: 2\n",
            "PAAC3: 2\n",
            "_SecondaryStrT13: 2\n",
            "_SolventAccessibilityD3075: 2\n",
            "_SecondaryStrD2075: 2\n",
            "_SecondaryStrD2100: 2\n",
            "_SecondaryStrD3050: 2\n",
            "_NormalizedVDWVD1075: 2\n",
            "_HydrophobicityD2075: 2\n",
            "_PolarizabilityT12: 2\n",
            "_PolarityT13: 2\n",
            "_NormalizedVDWVT12: 2\n",
            "_HydrophobicityT13: 2\n",
            "RC: 1\n",
            "IC: 1\n",
            "MR: 1\n",
            "ML: 1\n",
            "VE: 1\n",
            "_SolventAccessibilityD3050: 1\n",
            "_SecondaryStrD1025: 1\n",
            "_PolarityD1075: 1\n",
            "_HydrophobicityD3075: 1\n",
            "AG: 1\n",
            "CC: 1\n",
            "QW: 1\n",
            "IG: 1\n",
            "LP: 1\n",
            "_SolventAccessibilityC2: 1\n",
            "_PolarityC3: 1\n",
            "_HydrophobicityC1: 1\n",
            "_HydrophobicityT23: 1\n",
            "_PolarizabilityD2001: 1\n",
            "_SecondaryStrD1050: 1\n",
            "_PolarityD2001: 1\n",
            "_NormalizedVDWVD1001: 1\n",
            "KG: 1\n",
            "_PolarityD3075: 1\n",
            "R: 1\n",
            "AE: 1\n",
            "NE: 1\n",
            "NQ: 1\n",
            "EA: 1\n",
            "EE: 1\n",
            "EQ: 1\n",
            "EL: 1\n",
            "ES: 1\n",
            "EW: 1\n",
            "EV: 1\n",
            "QN: 1\n",
            "QE: 1\n",
            "QQ: 1\n",
            "IH: 1\n",
            "IP: 1\n",
            "LE: 1\n",
            "LI: 1\n",
            "KN: 1\n",
            "SQ: 1\n",
            "SL: 1\n",
            "SW: 1\n",
            "TE: 1\n",
            "WA: 1\n",
            "WN: 1\n",
            "WD: 1\n",
            "WM: 1\n",
            "YQ: 1\n",
            "YT: 1\n",
            "VW: 1\n",
            "PAAC2: 1\n",
            "_PolarizabilityC2: 1\n",
            "_PolarizabilityD3025: 1\n",
            "_SecondaryStrD1100: 1\n",
            "_NormalizedVDWVD3025: 1\n",
            "_HydrophobicityD2050: 1\n",
            "A: 1\n",
            "AL: 1\n",
            "FA: 1\n",
            "PAAC1: 1\n",
            "PAAC11: 1\n",
            "_SecondaryStrT23: 1\n",
            "_SecondaryStrD2050: 1\n",
            "FK: 1\n",
            "PAAC20: 1\n",
            "_ChargeD2001: 1\n",
            "_PolarityD2075: 1\n",
            "_NormalizedVDWVT23: 1\n"
          ]
        }
      ]
    },
    {
      "cell_type": "code",
      "source": [
        "from sklearn.feature_selection import chi2, SelectKBest\n",
        "import numpy as np\n",
        "\n",
        "selected_features = []\n",
        "feature_names = df_features_numeric.columns  # Asumiendo que estas son las características\n",
        "\n",
        "for label in df_merged_neg_pos_numeric.columns:\n",
        "    selector = SelectKBest(chi2, k='all')\n",
        "    selector.fit(df_features_numeric, df_merged_neg_pos_numeric[label])\n",
        "    selected_features.append(list(selector.scores_))\n",
        "\n",
        "# MeanCS\n",
        "\n",
        "mean_scores = np.mean(selected_features, axis=0)\n",
        "threshold = np.percentile(mean_scores, 75)\n",
        "mean_selected_features = mean_scores > threshold\n",
        "\n",
        "\n",
        "# Imprimir características seleccionadas por MeanCS\n",
        "print(\"Características seleccionadas por MeanCS:\")\n",
        "print(feature_names[mean_selected_features])\n",
        "\n",
        "# MaxCS\n",
        "max_scores = np.max(selected_features, axis=0)\n",
        "threshold = np.percentile(max_scores, 75)\n",
        "mean_selected_features = mean_scores > threshold\n",
        "\n",
        "\n",
        "# Imprimir características seleccionadas por MaxCS\n",
        "print(\"Características seleccionadas por MaxCS:\")\n",
        "print(feature_names[max_selected_features])"
      ],
      "metadata": {
        "colab": {
          "base_uri": "https://localhost:8080/"
        },
        "id": "dRfUD3011uj2",
        "outputId": "17ded84b-d58f-450e-9d87-9a5a0679df29"
      },
      "execution_count": null,
      "outputs": [
        {
          "output_type": "stream",
          "name": "stdout",
          "text": [
            "Características seleccionadas por MeanCS:\n",
            "Index(['R', 'N', 'D', 'C', 'E', 'Q', 'G', 'L', 'K', 'M',\n",
            "       ...\n",
            "       '_NormalizedVDWVD3025', '_NormalizedVDWVD3050', '_NormalizedVDWVD3075',\n",
            "       '_NormalizedVDWVD3100', '_HydrophobicityD1075', '_HydrophobicityD2025',\n",
            "       '_HydrophobicityD2050', '_HydrophobicityD2075', '_HydrophobicityD2100',\n",
            "       '_HydrophobicityD3025'],\n",
            "      dtype='object', length=148)\n",
            "Características seleccionadas por MaxCS:\n",
            "Index(['A', 'R', 'N', 'D', 'C', 'E', 'Q', 'G', 'L', 'K',\n",
            "       ...\n",
            "       '_NormalizedVDWVD3050', '_NormalizedVDWVD3075', '_NormalizedVDWVD3100',\n",
            "       '_HydrophobicityD1025', '_HydrophobicityD2001', '_HydrophobicityD2025',\n",
            "       '_HydrophobicityD2050', '_HydrophobicityD2075', '_HydrophobicityD2100',\n",
            "       '_HydrophobicityD3025'],\n",
            "      dtype='object', length=193)\n"
          ]
        }
      ]
    },
    {
      "cell_type": "code",
      "source": [
        "#ANOVA con gradient boosting\n",
        "import numpy as np\n",
        "import pandas as pd\n",
        "from sklearn.feature_selection import SelectKBest, f_classif\n",
        "from sklearn.ensemble import GradientBoostingClassifier\n",
        "from sklearn.model_selection import train_test_split\n",
        "from sklearn.metrics import classification_report\n",
        "\n",
        "\n",
        "# Paso 1: Selección de características usando ANOVA\n",
        "selected_features = []\n",
        "for label in df_merged_neg_pos_numeric.columns:\n",
        "    selector = SelectKBest(score_func=f_classif, k='all')\n",
        "    selector.fit(df_features_numeric, df_merged_neg_pos_numeric[label])\n",
        "    selected_features.append(list(selector.scores_))\n",
        "\n",
        "# Convertir a un array numpy\n",
        "selected_features = np.array(selected_features)\n",
        "\n",
        "# Calcular la media de las puntuaciones para cada característica\n",
        "mean_scores = np.mean(selected_features, axis=0)\n",
        "\n",
        "# Establecer un umbral, por ejemplo, usando el percentil 75\n",
        "threshold = np.percentile(mean_scores, 75)\n",
        "selected_indices = mean_scores > threshold\n",
        "\n",
        "# Obtener las características seleccionadas\n",
        "X_selected = df_features_numeric.iloc[:, selected_indices]\n",
        "\n",
        "# Paso 2: Entrenar un modelo de Gradient Boosting\n",
        "# Dividir los datos en conjunto de entrenamiento y prueba\n",
        "X_train, X_test, y_train, y_test = train_test_split(X_selected, df_merged_neg_pos_numeric, test_size=0.2, random_state=42)\n",
        "\n",
        "# Entrenar el modelo\n",
        "gb_model = GradientBoostingClassifier()\n",
        "gb_model.fit(X_train, y_train)\n",
        "\n",
        "# Hacer predicciones\n",
        "y_pred = gb_model.predict(X_test)\n",
        "\n",
        "# Mostrar resultados\n",
        "print(classification_report(y_test, y_pred))\n",
        "\n"
      ],
      "metadata": {
        "colab": {
          "base_uri": "https://localhost:8080/",
          "height": 356
        },
        "id": "1KeSvuwW5Na7",
        "outputId": "e85dc96c-0c3d-41a8-8c55-3c97aa426d24"
      },
      "execution_count": null,
      "outputs": [
        {
          "output_type": "error",
          "ename": "ValueError",
          "evalue": "y should be a 1d array, got an array of shape (29693, 8) instead.",
          "traceback": [
            "\u001b[0;31m---------------------------------------------------------------------------\u001b[0m",
            "\u001b[0;31mValueError\u001b[0m                                Traceback (most recent call last)",
            "\u001b[0;32m<ipython-input-22-5ebcb835bcfd>\u001b[0m in \u001b[0;36m<cell line: 37>\u001b[0;34m()\u001b[0m\n\u001b[1;32m     35\u001b[0m \u001b[0;31m# Entrenar el modelo\u001b[0m\u001b[0;34m\u001b[0m\u001b[0;34m\u001b[0m\u001b[0m\n\u001b[1;32m     36\u001b[0m \u001b[0mgb_model\u001b[0m \u001b[0;34m=\u001b[0m \u001b[0mGradientBoostingClassifier\u001b[0m\u001b[0;34m(\u001b[0m\u001b[0;34m)\u001b[0m\u001b[0;34m\u001b[0m\u001b[0;34m\u001b[0m\u001b[0m\n\u001b[0;32m---> 37\u001b[0;31m \u001b[0mgb_model\u001b[0m\u001b[0;34m.\u001b[0m\u001b[0mfit\u001b[0m\u001b[0;34m(\u001b[0m\u001b[0mX_train\u001b[0m\u001b[0;34m,\u001b[0m \u001b[0my_train\u001b[0m\u001b[0;34m)\u001b[0m\u001b[0;34m\u001b[0m\u001b[0;34m\u001b[0m\u001b[0m\n\u001b[0m\u001b[1;32m     38\u001b[0m \u001b[0;34m\u001b[0m\u001b[0m\n\u001b[1;32m     39\u001b[0m \u001b[0;31m# Hacer predicciones\u001b[0m\u001b[0;34m\u001b[0m\u001b[0;34m\u001b[0m\u001b[0m\n",
            "\u001b[0;32m/usr/local/lib/python3.10/dist-packages/sklearn/base.py\u001b[0m in \u001b[0;36mwrapper\u001b[0;34m(estimator, *args, **kwargs)\u001b[0m\n\u001b[1;32m   1471\u001b[0m                 )\n\u001b[1;32m   1472\u001b[0m             ):\n\u001b[0;32m-> 1473\u001b[0;31m                 \u001b[0;32mreturn\u001b[0m \u001b[0mfit_method\u001b[0m\u001b[0;34m(\u001b[0m\u001b[0mestimator\u001b[0m\u001b[0;34m,\u001b[0m \u001b[0;34m*\u001b[0m\u001b[0margs\u001b[0m\u001b[0;34m,\u001b[0m \u001b[0;34m**\u001b[0m\u001b[0mkwargs\u001b[0m\u001b[0;34m)\u001b[0m\u001b[0;34m\u001b[0m\u001b[0;34m\u001b[0m\u001b[0m\n\u001b[0m\u001b[1;32m   1474\u001b[0m \u001b[0;34m\u001b[0m\u001b[0m\n\u001b[1;32m   1475\u001b[0m         \u001b[0;32mreturn\u001b[0m \u001b[0mwrapper\u001b[0m\u001b[0;34m\u001b[0m\u001b[0;34m\u001b[0m\u001b[0m\n",
            "\u001b[0;32m/usr/local/lib/python3.10/dist-packages/sklearn/ensemble/_gb.py\u001b[0m in \u001b[0;36mfit\u001b[0;34m(self, X, y, sample_weight, monitor)\u001b[0m\n\u001b[1;32m    663\u001b[0m         \u001b[0msample_weight\u001b[0m \u001b[0;34m=\u001b[0m \u001b[0m_check_sample_weight\u001b[0m\u001b[0;34m(\u001b[0m\u001b[0msample_weight\u001b[0m\u001b[0;34m,\u001b[0m \u001b[0mX\u001b[0m\u001b[0;34m)\u001b[0m\u001b[0;34m\u001b[0m\u001b[0;34m\u001b[0m\u001b[0m\n\u001b[1;32m    664\u001b[0m         \u001b[0;32mif\u001b[0m \u001b[0msample_weight_is_none\u001b[0m\u001b[0;34m:\u001b[0m\u001b[0;34m\u001b[0m\u001b[0;34m\u001b[0m\u001b[0m\n\u001b[0;32m--> 665\u001b[0;31m             \u001b[0my\u001b[0m \u001b[0;34m=\u001b[0m \u001b[0mself\u001b[0m\u001b[0;34m.\u001b[0m\u001b[0m_encode_y\u001b[0m\u001b[0;34m(\u001b[0m\u001b[0my\u001b[0m\u001b[0;34m=\u001b[0m\u001b[0my\u001b[0m\u001b[0;34m,\u001b[0m \u001b[0msample_weight\u001b[0m\u001b[0;34m=\u001b[0m\u001b[0;32mNone\u001b[0m\u001b[0;34m)\u001b[0m\u001b[0;34m\u001b[0m\u001b[0;34m\u001b[0m\u001b[0m\n\u001b[0m\u001b[1;32m    666\u001b[0m         \u001b[0;32melse\u001b[0m\u001b[0;34m:\u001b[0m\u001b[0;34m\u001b[0m\u001b[0;34m\u001b[0m\u001b[0m\n\u001b[1;32m    667\u001b[0m             \u001b[0my\u001b[0m \u001b[0;34m=\u001b[0m \u001b[0mself\u001b[0m\u001b[0;34m.\u001b[0m\u001b[0m_encode_y\u001b[0m\u001b[0;34m(\u001b[0m\u001b[0my\u001b[0m\u001b[0;34m=\u001b[0m\u001b[0my\u001b[0m\u001b[0;34m,\u001b[0m \u001b[0msample_weight\u001b[0m\u001b[0;34m=\u001b[0m\u001b[0msample_weight\u001b[0m\u001b[0;34m)\u001b[0m\u001b[0;34m\u001b[0m\u001b[0;34m\u001b[0m\u001b[0m\n",
            "\u001b[0;32m/usr/local/lib/python3.10/dist-packages/sklearn/ensemble/_gb.py\u001b[0m in \u001b[0;36m_encode_y\u001b[0;34m(self, y, sample_weight)\u001b[0m\n\u001b[1;32m   1502\u001b[0m \u001b[0;34m\u001b[0m\u001b[0m\n\u001b[1;32m   1503\u001b[0m         \u001b[0mlabel_encoder\u001b[0m \u001b[0;34m=\u001b[0m \u001b[0mLabelEncoder\u001b[0m\u001b[0;34m(\u001b[0m\u001b[0;34m)\u001b[0m\u001b[0;34m\u001b[0m\u001b[0;34m\u001b[0m\u001b[0m\n\u001b[0;32m-> 1504\u001b[0;31m         \u001b[0mencoded_y_int\u001b[0m \u001b[0;34m=\u001b[0m \u001b[0mlabel_encoder\u001b[0m\u001b[0;34m.\u001b[0m\u001b[0mfit_transform\u001b[0m\u001b[0;34m(\u001b[0m\u001b[0my\u001b[0m\u001b[0;34m)\u001b[0m\u001b[0;34m\u001b[0m\u001b[0;34m\u001b[0m\u001b[0m\n\u001b[0m\u001b[1;32m   1505\u001b[0m         \u001b[0mself\u001b[0m\u001b[0;34m.\u001b[0m\u001b[0mclasses_\u001b[0m \u001b[0;34m=\u001b[0m \u001b[0mlabel_encoder\u001b[0m\u001b[0;34m.\u001b[0m\u001b[0mclasses_\u001b[0m\u001b[0;34m\u001b[0m\u001b[0;34m\u001b[0m\u001b[0m\n\u001b[1;32m   1506\u001b[0m         \u001b[0mn_classes\u001b[0m \u001b[0;34m=\u001b[0m \u001b[0mself\u001b[0m\u001b[0;34m.\u001b[0m\u001b[0mclasses_\u001b[0m\u001b[0;34m.\u001b[0m\u001b[0mshape\u001b[0m\u001b[0;34m[\u001b[0m\u001b[0;36m0\u001b[0m\u001b[0;34m]\u001b[0m\u001b[0;34m\u001b[0m\u001b[0;34m\u001b[0m\u001b[0m\n",
            "\u001b[0;32m/usr/local/lib/python3.10/dist-packages/sklearn/preprocessing/_label.py\u001b[0m in \u001b[0;36mfit_transform\u001b[0;34m(self, y)\u001b[0m\n\u001b[1;32m    112\u001b[0m             \u001b[0mEncoded\u001b[0m \u001b[0mlabels\u001b[0m\u001b[0;34m.\u001b[0m\u001b[0;34m\u001b[0m\u001b[0;34m\u001b[0m\u001b[0m\n\u001b[1;32m    113\u001b[0m         \"\"\"\n\u001b[0;32m--> 114\u001b[0;31m         \u001b[0my\u001b[0m \u001b[0;34m=\u001b[0m \u001b[0mcolumn_or_1d\u001b[0m\u001b[0;34m(\u001b[0m\u001b[0my\u001b[0m\u001b[0;34m,\u001b[0m \u001b[0mwarn\u001b[0m\u001b[0;34m=\u001b[0m\u001b[0;32mTrue\u001b[0m\u001b[0;34m)\u001b[0m\u001b[0;34m\u001b[0m\u001b[0;34m\u001b[0m\u001b[0m\n\u001b[0m\u001b[1;32m    115\u001b[0m         \u001b[0mself\u001b[0m\u001b[0;34m.\u001b[0m\u001b[0mclasses_\u001b[0m\u001b[0;34m,\u001b[0m \u001b[0my\u001b[0m \u001b[0;34m=\u001b[0m \u001b[0m_unique\u001b[0m\u001b[0;34m(\u001b[0m\u001b[0my\u001b[0m\u001b[0;34m,\u001b[0m \u001b[0mreturn_inverse\u001b[0m\u001b[0;34m=\u001b[0m\u001b[0;32mTrue\u001b[0m\u001b[0;34m)\u001b[0m\u001b[0;34m\u001b[0m\u001b[0;34m\u001b[0m\u001b[0m\n\u001b[1;32m    116\u001b[0m         \u001b[0;32mreturn\u001b[0m \u001b[0my\u001b[0m\u001b[0;34m\u001b[0m\u001b[0;34m\u001b[0m\u001b[0m\n",
            "\u001b[0;32m/usr/local/lib/python3.10/dist-packages/sklearn/utils/validation.py\u001b[0m in \u001b[0;36mcolumn_or_1d\u001b[0;34m(y, dtype, warn)\u001b[0m\n\u001b[1;32m   1404\u001b[0m         \u001b[0;32mreturn\u001b[0m \u001b[0m_asarray_with_order\u001b[0m\u001b[0;34m(\u001b[0m\u001b[0mxp\u001b[0m\u001b[0;34m.\u001b[0m\u001b[0mreshape\u001b[0m\u001b[0;34m(\u001b[0m\u001b[0my\u001b[0m\u001b[0;34m,\u001b[0m \u001b[0;34m(\u001b[0m\u001b[0;34m-\u001b[0m\u001b[0;36m1\u001b[0m\u001b[0;34m,\u001b[0m\u001b[0;34m)\u001b[0m\u001b[0;34m)\u001b[0m\u001b[0;34m,\u001b[0m \u001b[0morder\u001b[0m\u001b[0;34m=\u001b[0m\u001b[0;34m\"C\"\u001b[0m\u001b[0;34m,\u001b[0m \u001b[0mxp\u001b[0m\u001b[0;34m=\u001b[0m\u001b[0mxp\u001b[0m\u001b[0;34m)\u001b[0m\u001b[0;34m\u001b[0m\u001b[0;34m\u001b[0m\u001b[0m\n\u001b[1;32m   1405\u001b[0m \u001b[0;34m\u001b[0m\u001b[0m\n\u001b[0;32m-> 1406\u001b[0;31m     raise ValueError(\n\u001b[0m\u001b[1;32m   1407\u001b[0m         \u001b[0;34m\"y should be a 1d array, got an array of shape {} instead.\"\u001b[0m\u001b[0;34m.\u001b[0m\u001b[0mformat\u001b[0m\u001b[0;34m(\u001b[0m\u001b[0mshape\u001b[0m\u001b[0;34m)\u001b[0m\u001b[0;34m\u001b[0m\u001b[0;34m\u001b[0m\u001b[0m\n\u001b[1;32m   1408\u001b[0m     )\n",
            "\u001b[0;31mValueError\u001b[0m: y should be a 1d array, got an array of shape (29693, 8) instead."
          ]
        }
      ]
    }
  ]
}